{
 "cells": [
  {
   "cell_type": "code",
   "execution_count": null,
   "id": "408ee65d",
   "metadata": {},
   "outputs": [],
   "source": []
  },
  {
   "cell_type": "code",
   "execution_count": 1,
   "id": "91cd3152",
   "metadata": {},
   "outputs": [
    {
     "name": "stdout",
     "output_type": "stream",
     "text": [
      "['T_a1_new.csv', 'T_a2_new.csv', 'T_a3_new.csv', 'T_a4_new.csv', 'T_a6_new.csv', 'T_a5_new.csv', 'T_L2_new.csv', 'T_L3_new.csv', 'T_L4_new.csv', 'T_L6_new.csv', 'T_L5_new.csv', 'T_L1_new.csv', 'T_LS1_new.csv', 'T_LS3_new.csv', 'T_LS4_new.csv', 'T_LS2_new.csv', 'T_LS5_new.csv', 'T_LS6_new.csv', 'T_S1_new.csv', 'T_S2_new.csv', 'T_S3_new.csv', 'T_S4_new.csv', 'T_S6_new.csv', 'T_S5_new.csv', 'X_a2_new.csv', 'X_a1_new.csv', 'X_a3_new.csv', 'X_a4_new.csv', 'X_a5_new.csv', 'X_a6_new.csv', 'X_L2_new.csv', 'X_L1_new.csv', 'X_L5_new.csv', 'X_L4_new.csv', 'X_L3_new.csv', 'X_L6_new.csv', 'X_LS1_new.csv', 'X_LS3_new.csv', 'X_LS2_new.csv', 'X_LS6_new.csv', 'X_LS4_new.csv', 'X_LS5_new.csv', 'X_S1_new.csv', 'X_S2_new.csv', 'X_S3_new.csv', 'X_S4_new.csv', 'X_S5_new.csv', 'X_S6_new.csv', 'Last_Proj.ipynb', '.ipynb_checkpoints', 'X_300_Fault Classification.ipynb', 'FC_Classifier.h5', 'aemodel_ind.h5', 'GANs.ipynb', 'Last_Proj-Copy1.ipynb']\n"
     ]
    }
   ],
   "source": [
    "import os\n",
    "import pandas as pd\n",
    "import numpy as np\n",
    "np.random.seed(42)\n",
    "\n",
    "\n",
    "# Get a list of all files in the current working directory\n",
    "files = os.listdir()\n",
    "print(files)"
   ]
  },
  {
   "cell_type": "markdown",
   "id": "adea82ea",
   "metadata": {},
   "source": [
    "## Using Torque Variable"
   ]
  },
  {
   "cell_type": "markdown",
   "id": "04686c83",
   "metadata": {},
   "source": [
    "### Individual Batches"
   ]
  },
  {
   "cell_type": "markdown",
   "id": "d3d78dff",
   "metadata": {},
   "source": [
    "#### Batch 1"
   ]
  },
  {
   "cell_type": "code",
   "execution_count": 2,
   "id": "c31b5b7a",
   "metadata": {},
   "outputs": [],
   "source": [
    "col_list = ['rod_1','rod_2','rod_3','rod_4','rod_5','rod_6','rod_7','rod_8','rod_9','rod_10']\n",
    "\n",
    "healthy_1 = pd.read_csv('T_a1_new.csv',header=None, names=col_list)\n",
    "short_fault_1 = pd.read_csv('T_S1_new.csv',header=None, names=col_list)\n",
    "step_fault_1 = pd.read_csv('T_LS1_new.csv',header=None, names=col_list)\n",
    "ramp_fault_1 = pd.read_csv('T_L1_new.csv',header=None, names=col_list)"
   ]
  },
  {
   "cell_type": "code",
   "execution_count": 3,
   "id": "18eda685",
   "metadata": {},
   "outputs": [],
   "source": [
    "import numpy as np\n",
    "from sklearn.preprocessing import StandardScaler\n",
    "scaler = StandardScaler()\n",
    "\n",
    "# Load and preprocess data\n",
    "healthy_1=np.array(healthy_1)\n",
    "X_train_ind = scaler.fit_transform(healthy_1[0:int(0.7*len(healthy_1)),:])\n",
    "X_test_ind_a = scaler.transform(healthy_1[int(0.7*len(healthy_1)):,:])\n",
    "X_test_ind_S = scaler.transform(np.array(short_fault_1))\n",
    "X_test_ind_LS = scaler.transform(np.array(step_fault_1))\n",
    "X_test_ind_L = scaler.transform(np.array(ramp_fault_1))"
   ]
  },
  {
   "cell_type": "code",
   "execution_count": 4,
   "id": "ace05115",
   "metadata": {
    "scrolled": true
   },
   "outputs": [],
   "source": [
    "import numpy as np\n",
    "import pandas as pd\n",
    "import tensorflow as tf\n",
    "from tensorflow import keras\n",
    "from tensorflow.keras import layers\n",
    "\n",
    "\n",
    "# Define the model\n",
    "input_dim = X_train_ind.shape[1]\n",
    "latent_dim = 2\n",
    "AE_model = keras.Sequential([\n",
    "    layers.Dense(32, activation='relu', input_shape=(input_dim,)),\n",
    "    layers.Dense(16, activation='relu'),\n",
    "    layers.Dense(latent_dim, activation='relu'),\n",
    "    layers.Dense(16, activation='relu'),\n",
    "    layers.Dense(32, activation='relu'),\n",
    "    layers.Dense(input_dim, activation='linear')\n",
    "])\n",
    "\n",
    "# Compile the model\n",
    "AE_model.compile(optimizer='adam', loss='mse')\n"
   ]
  },
  {
   "cell_type": "code",
   "execution_count": 5,
   "id": "72d4d809",
   "metadata": {},
   "outputs": [],
   "source": [
    "from tensorflow.keras.callbacks import ModelCheckpoint\n",
    "# define the checkpoint filepath\n",
    "checkpoint_filepath = 'aemodel_ind.h5'\n",
    "\n",
    "# create the ModelCheckpoint callback\n",
    "checkpoint = ModelCheckpoint(\n",
    "    filepath=checkpoint_filepath,\n",
    "    monitor='val_loss',\n",
    "    mode='min',\n",
    "    save_best_only=True,\n",
    "    save_weights_only=False\n",
    ")"
   ]
  },
  {
   "cell_type": "code",
   "execution_count": 6,
   "id": "7e67d623",
   "metadata": {
    "scrolled": true
   },
   "outputs": [
    {
     "name": "stdout",
     "output_type": "stream",
     "text": [
      "Epoch 1/6\n",
      "4375/4375 [==============================] - 6s 1ms/step - loss: 0.0289 - val_loss: 0.0117\n",
      "Epoch 2/6\n",
      "4375/4375 [==============================] - 5s 1ms/step - loss: 0.0052 - val_loss: 0.0111\n",
      "Epoch 3/6\n",
      "4375/4375 [==============================] - 5s 1ms/step - loss: 0.0050 - val_loss: 0.0107\n",
      "Epoch 4/6\n",
      "4375/4375 [==============================] - 5s 1ms/step - loss: 0.0050 - val_loss: 0.0106\n",
      "Epoch 5/6\n",
      "4375/4375 [==============================] - 5s 1ms/step - loss: 0.0049 - val_loss: 0.0106\n",
      "Epoch 6/6\n",
      "4375/4375 [==============================] - 5s 1ms/step - loss: 0.0049 - val_loss: 0.0106\n"
     ]
    },
    {
     "data": {
      "text/plain": [
       "<keras.callbacks.History at 0x7f1360704490>"
      ]
     },
     "execution_count": 6,
     "metadata": {},
     "output_type": "execute_result"
    }
   ],
   "source": [
    "AE_model.fit(X_train_ind, X_train_ind, epochs=6, batch_size=64, validation_split=0.2, callbacks = [checkpoint])"
   ]
  },
  {
   "cell_type": "code",
   "execution_count": 7,
   "id": "bcc44868",
   "metadata": {},
   "outputs": [
    {
     "name": "stdout",
     "output_type": "stream",
     "text": [
      "4688/4688 [==============================] - 3s 606us/step\n",
      "Number of anomalies: 7500\n"
     ]
    },
    {
     "data": {
      "image/png": "[encoded data removed]",
      "text/plain": [
       "<Figure size 432x288 with 1 Axes>"
      ]
     },
     "metadata": {
      "needs_background": "light"
     },
     "output_type": "display_data"
    }
   ],
   "source": [
    "# Evaluate the model\n",
    "X_pred = AE_model.predict(X_test_ind_a)\n",
    "mse = np.mean(np.power(X_test_ind_a - X_pred, 2), axis=1)\n",
    "threshold = np.percentile(mse, 95)\n",
    "anomalies = np.where(mse > threshold)[0]\n",
    "print('Number of anomalies:', len(anomalies))\n",
    "\n",
    "# Predict Fault\n",
    "predictions = np.zeros_like(mse)\n",
    "predictions[mse > threshold] = 1\n",
    "\n",
    "# Plot Hypothesis Curve\n",
    "import matplotlib.pyplot as plt\n",
    "plt.plot(predictions, 'r*')\n",
    "plt.xlabel('Observation')\n",
    "plt.ylabel('Prediction')\n",
    "plt.title('Fault Hypothesis Plot - Healthy Test - Batch 1')\n",
    "plt.show()"
   ]
  },
  {
   "cell_type": "code",
   "execution_count": 8,
   "id": "e96e0bc5",
   "metadata": {},
   "outputs": [
    {
     "name": "stdout",
     "output_type": "stream",
     "text": [
      "4688/4688 [==============================] - 3s 577us/step\n"
     ]
    },
    {
     "data": {
      "image/png": "[encoded data removed]",
      "text/plain": [
       "<Figure size 720x360 with 1 Axes>"
      ]
     },
     "metadata": {
      "needs_background": "light"
     },
     "output_type": "display_data"
    }
   ],
   "source": [
    "# Calculate reconstruction error for each variable on test data\n",
    "test_data_pred = AE_model.predict(X_test_ind_a)\n",
    "test_data_recon_error = np.abs(X_test_ind_a - test_data_pred)\n",
    "variable_recon_error = np.mean(test_data_recon_error, axis=0)\n",
    "\n",
    "import matplotlib.pyplot as plt\n",
    "plt.figure(figsize=(10,5))\n",
    "plt.bar(range(1, input_dim+1), variable_recon_error)\n",
    "plt.xticks(range(1, input_dim+1), col_list, rotation=90)\n",
    "plt.ylabel('Reconstruction error')\n",
    "# plt.ylim(0,0.55)\n",
    "plt.xlabel('Rods')\n",
    "plt.title('Healthy Test - Batch 1')\n",
    "plt.show()"
   ]
  },
  {
   "cell_type": "code",
   "execution_count": 9,
   "id": "2559c1af",
   "metadata": {},
   "outputs": [
    {
     "name": "stdout",
     "output_type": "stream",
     "text": [
      "15626/15626 [==============================] - 9s 589us/step\n",
      "Number of anomalies: 230571\n"
     ]
    },
    {
     "data": {
      "image/png": "[encoded data removed]",
      "text/plain": [
       "<Figure size 432x288 with 1 Axes>"
      ]
     },
     "metadata": {
      "needs_background": "light"
     },
     "output_type": "display_data"
    }
   ],
   "source": [
    "# Evaluate the model\n",
    "X_pred = AE_model.predict(X_test_ind_S)\n",
    "mse = np.mean(np.power(X_test_ind_S - X_pred, 2), axis=1)\n",
    "anomalies = np.where(mse > threshold)[0]\n",
    "print('Number of anomalies:', len(anomalies))\n",
    "\n",
    "# Predict Fault\n",
    "predictions = np.zeros_like(mse)\n",
    "predictions[mse > threshold] = 1\n",
    "\n",
    "# Plot Hypothesis Curve\n",
    "import matplotlib.pyplot as plt\n",
    "plt.plot(predictions, 'r*')\n",
    "plt.xlabel('Observation')\n",
    "plt.ylabel('Prediction')\n",
    "plt.title('Fault Hypothesis Plot - Short-Circuit - Batch 1')\n",
    "plt.show()"
   ]
  },
  {
   "cell_type": "code",
   "execution_count": 10,
   "id": "58e230ab",
   "metadata": {},
   "outputs": [
    {
     "name": "stdout",
     "output_type": "stream",
     "text": [
      "15626/15626 [==============================] - 9s 585us/step\n"
     ]
    },
    {
     "data": {
      "image/png": "[encoded data removed]",
      "text/plain": [
       "<Figure size 720x360 with 1 Axes>"
      ]
     },
     "metadata": {
      "needs_background": "light"
     },
     "output_type": "display_data"
    }
   ],
   "source": [
    "# Calculate reconstruction error for each variable on test data\n",
    "test_data_pred = AE_model.predict(X_test_ind_S)\n",
    "test_data_recon_error = np.abs(X_test_ind_S - test_data_pred)\n",
    "variable_recon_error = np.mean(test_data_recon_error, axis=0)\n",
    "\n",
    "# Visualize reconstruction error per variable\n",
    "import matplotlib.pyplot as plt\n",
    "\n",
    "plt.figure(figsize=(10,5))\n",
    "plt.bar(range(1, input_dim+1), variable_recon_error)\n",
    "plt.xticks(range(1, input_dim+1), col_list, rotation=90)\n",
    "plt.ylabel('Reconstruction error')\n",
    "# plt.ylim(0,0.6)\n",
    "plt.xlabel('Rods')\n",
    "plt.title('Short-Circuit Fault Test - Batch 1')\n",
    "plt.show()"
   ]
  },
  {
   "cell_type": "code",
   "execution_count": 11,
   "id": "b1f9c7dd",
   "metadata": {
    "scrolled": true
   },
   "outputs": [
    {
     "name": "stdout",
     "output_type": "stream",
     "text": [
      "15626/15626 [==============================] - 11s 689us/step\n",
      "Number of anomalies: 89079\n"
     ]
    },
    {
     "data": {
      "image/png": "[encoded data removed]",
      "text/plain": [
       "<Figure size 432x288 with 1 Axes>"
      ]
     },
     "metadata": {
      "needs_background": "light"
     },
     "output_type": "display_data"
    }
   ],
   "source": [
    "# Evaluate the model\n",
    "X_pred = AE_model.predict(X_test_ind_L)\n",
    "mse = np.mean(np.power(X_test_ind_L - X_pred, 2), axis=1)\n",
    "# threshold = np.percentile(mse, 95)\n",
    "anomalies = np.where(mse > threshold)[0]\n",
    "print('Number of anomalies:', len(anomalies))\n",
    "\n",
    "# Predict Fault\n",
    "predictions = np.zeros_like(mse)\n",
    "predictions[mse > threshold] = 1\n",
    "\n",
    "# Plot Hypothesis Curve\n",
    "import matplotlib.pyplot as plt\n",
    "plt.plot(predictions, 'r*')\n",
    "plt.xlabel('Observation')\n",
    "plt.ylabel('Prediction')\n",
    "plt.title('Fault Hypothesis Plot - Ramp Fault - Batch 1')\n",
    "plt.show()"
   ]
  },
  {
   "cell_type": "code",
   "execution_count": 12,
   "id": "b4c90271",
   "metadata": {},
   "outputs": [
    {
     "name": "stdout",
     "output_type": "stream",
     "text": [
      "15626/15626 [==============================] - 11s 685us/step\n"
     ]
    },
    {
     "data": {
      "image/png": "[encoded data removed]",
      "text/plain": [
       "<Figure size 720x360 with 1 Axes>"
      ]
     },
     "metadata": {
      "needs_background": "light"
     },
     "output_type": "display_data"
    }
   ],
   "source": [
    "# Calculate reconstruction error for each variable on test data\n",
    "test_data_pred = AE_model.predict(X_test_ind_L)\n",
    "test_data_recon_error = np.abs(X_test_ind_L - test_data_pred)\n",
    "variable_recon_error = np.mean(test_data_recon_error, axis=0)\n",
    "\n",
    "# Visualize reconstruction error per variable\n",
    "import matplotlib.pyplot as plt\n",
    "\n",
    "plt.figure(figsize=(10,5))\n",
    "plt.bar(range(1, input_dim+1), variable_recon_error)\n",
    "plt.xticks(range(1, input_dim+1), col_list, rotation=90)\n",
    "plt.ylabel('Reconstruction error')\n",
    "plt.xlabel('Rods')\n",
    "plt.ylim(0,0.4)\n",
    "plt.title('Ramp Fault Test - Batch 1')\n",
    "plt.show()"
   ]
  },
  {
   "cell_type": "code",
   "execution_count": 13,
   "id": "5266e896",
   "metadata": {
    "scrolled": false
   },
   "outputs": [
    {
     "name": "stdout",
     "output_type": "stream",
     "text": [
      "15626/15626 [==============================] - 10s 613us/step\n",
      "Number of anomalies: 17224\n"
     ]
    },
    {
     "data": {
      "image/png": "[encoded data removed]",
      "text/plain": [
       "<Figure size 432x288 with 1 Axes>"
      ]
     },
     "metadata": {
      "needs_background": "light"
     },
     "output_type": "display_data"
    }
   ],
   "source": [
    "# Evaluate the model\n",
    "X_pred = AE_model.predict(X_test_ind_LS)\n",
    "mse = np.mean(np.power(X_test_ind_LS - X_pred, 2), axis=1)\n",
    "anomalies = np.where(mse > threshold)[0]\n",
    "print('Number of anomalies:', len(anomalies))\n",
    "\n",
    "# Predict Fault\n",
    "predictions = np.zeros_like(mse)\n",
    "predictions[mse > threshold] = 1\n",
    "\n",
    "# Plot Hypothesis Curve\n",
    "import matplotlib.pyplot as plt\n",
    "plt.plot(predictions, 'r*')\n",
    "plt.xlabel('Observation')\n",
    "plt.ylabel('Prediction')\n",
    "plt.title('Fault Hypothesis Plot - Step Fault - Batch 1')\n",
    "plt.show()"
   ]
  },
  {
   "cell_type": "code",
   "execution_count": 14,
   "id": "4576c28b",
   "metadata": {},
   "outputs": [
    {
     "name": "stdout",
     "output_type": "stream",
     "text": [
      "15626/15626 [==============================] - 11s 705us/step\n"
     ]
    },
    {
     "data": {
      "image/png": "[encoded data removed]",
      "text/plain": [
       "<Figure size 720x360 with 1 Axes>"
      ]
     },
     "metadata": {
      "needs_background": "light"
     },
     "output_type": "display_data"
    }
   ],
   "source": [
    "# Calculate reconstruction error for each variable on test data\n",
    "test_data_pred = AE_model.predict(X_test_ind_LS)\n",
    "test_data_recon_error = np.abs(X_test_ind_LS - test_data_pred)\n",
    "variable_recon_error = np.mean(test_data_recon_error, axis=0)\n",
    "\n",
    "# Visualize reconstruction error per variable\n",
    "import matplotlib.pyplot as plt\n",
    "\n",
    "plt.figure(figsize=(10,5))\n",
    "plt.bar(range(1, input_dim+1), variable_recon_error)\n",
    "plt.xticks(range(1, input_dim+1), col_list, rotation=90)\n",
    "plt.ylabel('Reconstruction error')\n",
    "plt.xlabel('Rods')\n",
    "plt.ylim(0,0.3)\n",
    "plt.title('Step Fault Test - Batch 1')\n",
    "plt.show()"
   ]
  },
  {
   "cell_type": "code",
   "execution_count": null,
   "id": "29938741",
   "metadata": {},
   "outputs": [],
   "source": []
  },
  {
   "cell_type": "code",
   "execution_count": null,
   "id": "fd1aa3f3",
   "metadata": {},
   "outputs": [],
   "source": []
  },
  {
   "cell_type": "markdown",
   "id": "2b385a67",
   "metadata": {},
   "source": [
    "#### Batch 5"
   ]
  },
  {
   "cell_type": "code",
   "execution_count": 15,
   "id": "ab222275",
   "metadata": {},
   "outputs": [],
   "source": [
    "healthy_5 = pd.read_csv('T_a5_new.csv',header=None, names=col_list)\n",
    "short_fault_5 = pd.read_csv('T_S5_new.csv',header=None, names=col_list)\n",
    "step_fault_5 = pd.read_csv('T_LS5_new.csv',header=None, names=col_list)\n",
    "ramp_fault_5 = pd.read_csv('T_L5_new.csv',header=None, names=col_list)"
   ]
  },
  {
   "cell_type": "code",
   "execution_count": 16,
   "id": "5ff17718",
   "metadata": {},
   "outputs": [],
   "source": [
    "import numpy as np\n",
    "from sklearn.preprocessing import StandardScaler\n",
    "scaler = StandardScaler()\n",
    "\n",
    "# Load and preprocess data\n",
    "healthy_5=np.array(healthy_5)\n",
    "X_train_ind = scaler.fit_transform(healthy_5[0:int(0.7*len(healthy_5)),:])\n",
    "X_test_ind_a = scaler.transform(healthy_5[int(0.7*len(healthy_5)):,:])\n",
    "X_test_ind_S = scaler.transform(np.array(short_fault_5))\n",
    "X_test_ind_LS = scaler.transform(np.array(step_fault_5))\n",
    "X_test_ind_L = scaler.transform(np.array(ramp_fault_5))"
   ]
  },
  {
   "cell_type": "code",
   "execution_count": 17,
   "id": "41dd08ac",
   "metadata": {
    "scrolled": true
   },
   "outputs": [
    {
     "name": "stdout",
     "output_type": "stream",
     "text": [
      "Epoch 1/6\n",
      "4375/4375 [==============================] - 5s 1ms/step - loss: 0.0051 - val_loss: 0.0095\n",
      "Epoch 2/6\n",
      "4375/4375 [==============================] - 5s 1ms/step - loss: 0.0048 - val_loss: 0.0095\n",
      "Epoch 3/6\n",
      "4375/4375 [==============================] - 5s 1ms/step - loss: 0.0047 - val_loss: 0.0095\n",
      "Epoch 4/6\n",
      "4375/4375 [==============================] - 5s 1ms/step - loss: 0.0047 - val_loss: 0.0095\n",
      "Epoch 5/6\n",
      "4375/4375 [==============================] - 5s 1ms/step - loss: 0.0046 - val_loss: 0.0095\n",
      "Epoch 6/6\n",
      "4375/4375 [==============================] - 5s 1ms/step - loss: 0.0046 - val_loss: 0.0096\n"
     ]
    },
    {
     "data": {
      "text/plain": [
       "<keras.callbacks.History at 0x7f12ac599400>"
      ]
     },
     "execution_count": 17,
     "metadata": {},
     "output_type": "execute_result"
    }
   ],
   "source": [
    "AE_model.fit(X_train_ind, X_train_ind, epochs=6, batch_size=64, validation_split=0.2, callbacks = [checkpoint])"
   ]
  },
  {
   "cell_type": "code",
   "execution_count": 18,
   "id": "4df61f24",
   "metadata": {},
   "outputs": [
    {
     "name": "stdout",
     "output_type": "stream",
     "text": [
      "4688/4688 [==============================] - 3s 607us/step\n",
      "Number of anomalies: 7500\n"
     ]
    },
    {
     "data": {
      "image/png": "[encoded data removed]",
      "text/plain": [
       "<Figure size 432x288 with 1 Axes>"
      ]
     },
     "metadata": {
      "needs_background": "light"
     },
     "output_type": "display_data"
    }
   ],
   "source": [
    "# Evaluate the model\n",
    "X_pred = AE_model.predict(X_test_ind_a)\n",
    "mse = np.mean(np.power(X_test_ind_a - X_pred, 2), axis=1)\n",
    "threshold = np.percentile(mse, 95)\n",
    "anomalies = np.where(mse > threshold)[0]\n",
    "print('Number of anomalies:', len(anomalies))\n",
    "\n",
    "# Predict Fault\n",
    "predictions = np.zeros_like(mse)\n",
    "predictions[mse > threshold] = 1\n",
    "\n",
    "# Plot Hypothesis Curve\n",
    "import matplotlib.pyplot as plt\n",
    "plt.plot(predictions, 'r*')\n",
    "plt.xlabel('Observation')\n",
    "plt.ylabel('Prediction')\n",
    "plt.title('Fault Hypothesis Plot - Healthy Batch 5')\n",
    "plt.show()"
   ]
  },
  {
   "cell_type": "code",
   "execution_count": 19,
   "id": "00b59c52",
   "metadata": {},
   "outputs": [
    {
     "name": "stdout",
     "output_type": "stream",
     "text": [
      "4688/4688 [==============================] - 3s 680us/step\n"
     ]
    },
    {
     "data": {
      "image/png": "[encoded data removed]",
      "text/plain": [
       "<Figure size 720x360 with 1 Axes>"
      ]
     },
     "metadata": {
      "needs_background": "light"
     },
     "output_type": "display_data"
    }
   ],
   "source": [
    "# Calculate reconstruction error for each variable on test data\n",
    "test_data_pred = AE_model.predict(X_test_ind_a)\n",
    "test_data_recon_error = np.abs(X_test_ind_a - test_data_pred)\n",
    "variable_recon_error = np.mean(test_data_recon_error, axis=0)\n",
    "\n",
    "# Visualize reconstruction error per variable\n",
    "import matplotlib.pyplot as plt\n",
    "\n",
    "plt.figure(figsize=(10,5))\n",
    "plt.bar(range(1, input_dim+1), variable_recon_error)\n",
    "plt.xticks(range(1, input_dim+1), col_list, rotation=90)\n",
    "plt.ylabel('Reconstruction error')\n",
    "plt.xlabel('Rods')\n",
    "plt.ylim(0,0.5)\n",
    "plt.title('Healthy Batch 5 Test')\n",
    "plt.show()"
   ]
  },
  {
   "cell_type": "code",
   "execution_count": 20,
   "id": "e4370e39",
   "metadata": {},
   "outputs": [
    {
     "name": "stdout",
     "output_type": "stream",
     "text": [
      "15626/15626 [==============================] - 10s 638us/step\n",
      "Number of anomalies: 225432\n"
     ]
    },
    {
     "data": {
      "image/png": "[encoded data removed]",
      "text/plain": [
       "<Figure size 432x288 with 1 Axes>"
      ]
     },
     "metadata": {
      "needs_background": "light"
     },
     "output_type": "display_data"
    }
   ],
   "source": [
    "# Evaluate the model\n",
    "X_pred = AE_model.predict(X_test_ind_S)\n",
    "mse = np.mean(np.power(X_test_ind_S - X_pred, 2), axis=1)\n",
    "anomalies = np.where(mse > threshold)[0]\n",
    "print('Number of anomalies:', len(anomalies))\n",
    "\n",
    "# Predict Fault\n",
    "predictions = np.zeros_like(mse)\n",
    "predictions[mse > threshold] = 1\n",
    "\n",
    "# Plot Hypothesis Curve\n",
    "import matplotlib.pyplot as plt\n",
    "plt.plot(predictions, 'r*')\n",
    "plt.xlabel('Observation')\n",
    "plt.ylabel('Prediction')\n",
    "plt.title('Fault Hypothesis Plot - Short-Circuit - Batch 5')\n",
    "plt.show()"
   ]
  },
  {
   "cell_type": "code",
   "execution_count": 21,
   "id": "e67617b6",
   "metadata": {},
   "outputs": [
    {
     "name": "stdout",
     "output_type": "stream",
     "text": [
      "15626/15626 [==============================] - 10s 642us/step\n"
     ]
    },
    {
     "data": {
      "image/png": "[encoded data removed]",
      "text/plain": [
       "<Figure size 720x360 with 1 Axes>"
      ]
     },
     "metadata": {
      "needs_background": "light"
     },
     "output_type": "display_data"
    }
   ],
   "source": [
    "# Calculate reconstruction error for each variable on test data\n",
    "test_data_pred = AE_model.predict(X_test_ind_S)\n",
    "test_data_recon_error = np.abs(X_test_ind_S - test_data_pred)\n",
    "variable_recon_error = np.mean(test_data_recon_error, axis=0)\n",
    "\n",
    "# Visualize reconstruction error per variable\n",
    "import matplotlib.pyplot as plt\n",
    "\n",
    "plt.figure(figsize=(10,5))\n",
    "plt.bar(range(1, input_dim+1), variable_recon_error)\n",
    "plt.xticks(range(1, input_dim+1), col_list, rotation=90)\n",
    "plt.ylabel('Reconstruction error')\n",
    "plt.xlabel('Rods')\n",
    "plt.ylim(0,0.6)\n",
    "plt.title('Short-Circuit Fault Test - Batch 5')\n",
    "plt.show()"
   ]
  },
  {
   "cell_type": "code",
   "execution_count": 22,
   "id": "11eb751f",
   "metadata": {},
   "outputs": [
    {
     "name": "stdout",
     "output_type": "stream",
     "text": [
      "15626/15626 [==============================] - 10s 618us/step\n",
      "Number of anomalies: 95168\n"
     ]
    },
    {
     "data": {
      "image/png": "[encoded data removed]",
      "text/plain": [
       "<Figure size 432x288 with 1 Axes>"
      ]
     },
     "metadata": {
      "needs_background": "light"
     },
     "output_type": "display_data"
    }
   ],
   "source": [
    "# Evaluate the model\n",
    "X_pred = AE_model.predict(X_test_ind_L)\n",
    "mse = np.mean(np.power(X_test_ind_L - X_pred, 2), axis=1)\n",
    "anomalies = np.where(mse > threshold)[0]\n",
    "print('Number of anomalies:', len(anomalies))\n",
    "\n",
    "# Predict Fault\n",
    "predictions = np.zeros_like(mse)\n",
    "predictions[mse > threshold] = 1\n",
    "\n",
    "# Plot Hypothesis Curve\n",
    "import matplotlib.pyplot as plt\n",
    "plt.plot(predictions, 'r*')\n",
    "plt.xlabel('Observation')\n",
    "plt.ylabel('Prediction')\n",
    "plt.title('Fault Hypothesis Plot - Ramp Fault')\n",
    "plt.show()"
   ]
  },
  {
   "cell_type": "code",
   "execution_count": 23,
   "id": "a1bf1187",
   "metadata": {},
   "outputs": [
    {
     "name": "stdout",
     "output_type": "stream",
     "text": [
      "15626/15626 [==============================] - 9s 586us/step\n"
     ]
    },
    {
     "data": {
      "image/png": "[encoded data removed]",
      "text/plain": [
       "<Figure size 720x360 with 1 Axes>"
      ]
     },
     "metadata": {
      "needs_background": "light"
     },
     "output_type": "display_data"
    }
   ],
   "source": [
    "# Calculate reconstruction error for each variable on test data\n",
    "test_data_pred = AE_model.predict(X_test_ind_L)\n",
    "test_data_recon_error = np.abs(X_test_ind_L - test_data_pred)\n",
    "variable_recon_error = np.mean(test_data_recon_error, axis=0)\n",
    "\n",
    "# Visualize reconstruction error per variable\n",
    "import matplotlib.pyplot as plt\n",
    "\n",
    "plt.figure(figsize=(10,5))\n",
    "plt.bar(range(1, input_dim+1), variable_recon_error)\n",
    "plt.xticks(range(1, input_dim+1), col_list, rotation=90)\n",
    "plt.ylabel('Reconstruction error')\n",
    "plt.xlabel('Rods')\n",
    "plt.ylim(0,0.4)\n",
    "plt.title('Ramp Fault Test - Batch 5')\n",
    "plt.show()"
   ]
  },
  {
   "cell_type": "code",
   "execution_count": 24,
   "id": "2f3b3192",
   "metadata": {},
   "outputs": [
    {
     "name": "stdout",
     "output_type": "stream",
     "text": [
      "15626/15626 [==============================] - 9s 593us/step\n",
      "Number of anomalies: 20265\n"
     ]
    },
    {
     "data": {
      "image/png": "[encoded data removed]",
      "text/plain": [
       "<Figure size 432x288 with 1 Axes>"
      ]
     },
     "metadata": {
      "needs_background": "light"
     },
     "output_type": "display_data"
    }
   ],
   "source": [
    "# Evaluate the model\n",
    "X_pred = AE_model.predict(X_test_ind_LS)\n",
    "mse = np.mean(np.power(X_test_ind_LS - X_pred, 2), axis=1)\n",
    "anomalies = np.where(mse > threshold)[0]\n",
    "print('Number of anomalies:', len(anomalies))\n",
    "\n",
    "# Predict Fault\n",
    "predictions = np.zeros_like(mse)\n",
    "predictions[mse > threshold] = 1\n",
    "\n",
    "# Plot Hypothesis Curve\n",
    "import matplotlib.pyplot as plt\n",
    "plt.plot(predictions, 'r*')\n",
    "plt.xlabel('Observation')\n",
    "plt.ylabel('Prediction')\n",
    "plt.title('Fault Hypothesis Plot - Step Fault - Batch 5')\n",
    "plt.show()"
   ]
  },
  {
   "cell_type": "code",
   "execution_count": 25,
   "id": "23867caf",
   "metadata": {},
   "outputs": [
    {
     "name": "stdout",
     "output_type": "stream",
     "text": [
      "15626/15626 [==============================] - 9s 579us/step\n"
     ]
    },
    {
     "data": {
      "image/png": "[encoded data removed]",
      "text/plain": [
       "<Figure size 720x360 with 1 Axes>"
      ]
     },
     "metadata": {
      "needs_background": "light"
     },
     "output_type": "display_data"
    }
   ],
   "source": [
    "# Calculate reconstruction error for each variable on test data\n",
    "test_data_pred = AE_model.predict(X_test_ind_LS)\n",
    "test_data_recon_error = np.abs(X_test_ind_LS - test_data_pred)\n",
    "variable_recon_error = np.mean(test_data_recon_error, axis=0)\n",
    "\n",
    "# Visualize reconstruction error per variable\n",
    "import matplotlib.pyplot as plt\n",
    "\n",
    "plt.figure(figsize=(10,5))\n",
    "plt.bar(range(1, input_dim+1), variable_recon_error)\n",
    "plt.xticks(range(1, input_dim+1), col_list, rotation=90)\n",
    "plt.ylabel('Reconstruction error')\n",
    "plt.xlabel('Rods')\n",
    "plt.ylim(0,0.4)\n",
    "plt.title('Step Fault Test - Batch 5')\n",
    "plt.show()"
   ]
  },
  {
   "cell_type": "code",
   "execution_count": null,
   "id": "10876a1e",
   "metadata": {},
   "outputs": [],
   "source": []
  },
  {
   "cell_type": "code",
   "execution_count": null,
   "id": "a719681c",
   "metadata": {},
   "outputs": [],
   "source": []
  },
  {
   "cell_type": "markdown",
   "id": "1c6cc934",
   "metadata": {},
   "source": [
    "### Combined Batch Test"
   ]
  },
  {
   "cell_type": "code",
   "execution_count": 26,
   "id": "488237db",
   "metadata": {},
   "outputs": [
    {
     "name": "stdout",
     "output_type": "stream",
     "text": [
      "(3000006, 10)\n"
     ]
    },
    {
     "data": {
      "text/html": [
       "<div>\n",
       "<style scoped>\n",
       "    .dataframe tbody tr th:only-of-type {\n",
       "        vertical-align: middle;\n",
       "    }\n",
       "\n",
       "    .dataframe tbody tr th {\n",
       "        vertical-align: top;\n",
       "    }\n",
       "\n",
       "    .dataframe thead th {\n",
       "        text-align: right;\n",
       "    }\n",
       "</style>\n",
       "<table border=\"1\" class=\"dataframe\">\n",
       "  <thead>\n",
       "    <tr style=\"text-align: right;\">\n",
       "      <th></th>\n",
       "      <th>rod_1</th>\n",
       "      <th>rod_2</th>\n",
       "      <th>rod_3</th>\n",
       "      <th>rod_4</th>\n",
       "      <th>rod_5</th>\n",
       "      <th>rod_6</th>\n",
       "      <th>rod_7</th>\n",
       "      <th>rod_8</th>\n",
       "      <th>rod_9</th>\n",
       "      <th>rod_10</th>\n",
       "    </tr>\n",
       "  </thead>\n",
       "  <tbody>\n",
       "    <tr>\n",
       "      <th>0</th>\n",
       "      <td>3.051400e-21</td>\n",
       "      <td>3.051400e-21</td>\n",
       "      <td>3.051400e-21</td>\n",
       "      <td>3.051400e-21</td>\n",
       "      <td>3.051400e-21</td>\n",
       "      <td>3.051400e-21</td>\n",
       "      <td>3.051400e-21</td>\n",
       "      <td>3.051400e-21</td>\n",
       "      <td>3.051400e-21</td>\n",
       "      <td>3.051400e-21</td>\n",
       "    </tr>\n",
       "    <tr>\n",
       "      <th>1</th>\n",
       "      <td>-3.414800e-19</td>\n",
       "      <td>-3.414800e-19</td>\n",
       "      <td>-3.414800e-19</td>\n",
       "      <td>-3.414800e-19</td>\n",
       "      <td>-3.414800e-19</td>\n",
       "      <td>-3.414800e-19</td>\n",
       "      <td>-3.414800e-19</td>\n",
       "      <td>-3.414800e-19</td>\n",
       "      <td>-3.414800e-19</td>\n",
       "      <td>-3.414800e-19</td>\n",
       "    </tr>\n",
       "    <tr>\n",
       "      <th>2</th>\n",
       "      <td>5.825400e-14</td>\n",
       "      <td>5.825400e-14</td>\n",
       "      <td>5.825400e-14</td>\n",
       "      <td>5.825400e-14</td>\n",
       "      <td>5.825400e-14</td>\n",
       "      <td>5.825400e-14</td>\n",
       "      <td>5.825400e-14</td>\n",
       "      <td>5.825400e-14</td>\n",
       "      <td>5.825400e-14</td>\n",
       "      <td>5.825400e-14</td>\n",
       "    </tr>\n",
       "    <tr>\n",
       "      <th>3</th>\n",
       "      <td>1.663400e-13</td>\n",
       "      <td>1.663400e-13</td>\n",
       "      <td>1.663400e-13</td>\n",
       "      <td>1.663400e-13</td>\n",
       "      <td>1.663400e-13</td>\n",
       "      <td>1.663400e-13</td>\n",
       "      <td>1.663400e-13</td>\n",
       "      <td>1.663400e-13</td>\n",
       "      <td>1.663400e-13</td>\n",
       "      <td>1.663400e-13</td>\n",
       "    </tr>\n",
       "    <tr>\n",
       "      <th>4</th>\n",
       "      <td>3.378900e-13</td>\n",
       "      <td>3.378900e-13</td>\n",
       "      <td>3.378900e-13</td>\n",
       "      <td>3.378900e-13</td>\n",
       "      <td>3.378900e-13</td>\n",
       "      <td>3.378900e-13</td>\n",
       "      <td>3.378900e-13</td>\n",
       "      <td>3.378900e-13</td>\n",
       "      <td>3.378900e-13</td>\n",
       "      <td>3.378900e-13</td>\n",
       "    </tr>\n",
       "  </tbody>\n",
       "</table>\n",
       "</div>"
      ],
      "text/plain": [
       "          rod_1         rod_2         rod_3         rod_4         rod_5   \n",
       "0  3.051400e-21  3.051400e-21  3.051400e-21  3.051400e-21  3.051400e-21  \\\n",
       "1 -3.414800e-19 -3.414800e-19 -3.414800e-19 -3.414800e-19 -3.414800e-19   \n",
       "2  5.825400e-14  5.825400e-14  5.825400e-14  5.825400e-14  5.825400e-14   \n",
       "3  1.663400e-13  1.663400e-13  1.663400e-13  1.663400e-13  1.663400e-13   \n",
       "4  3.378900e-13  3.378900e-13  3.378900e-13  3.378900e-13  3.378900e-13   \n",
       "\n",
       "          rod_6         rod_7         rod_8         rod_9        rod_10  \n",
       "0  3.051400e-21  3.051400e-21  3.051400e-21  3.051400e-21  3.051400e-21  \n",
       "1 -3.414800e-19 -3.414800e-19 -3.414800e-19 -3.414800e-19 -3.414800e-19  \n",
       "2  5.825400e-14  5.825400e-14  5.825400e-14  5.825400e-14  5.825400e-14  \n",
       "3  1.663400e-13  1.663400e-13  1.663400e-13  1.663400e-13  1.663400e-13  \n",
       "4  3.378900e-13  3.378900e-13  3.378900e-13  3.378900e-13  3.378900e-13  "
      ]
     },
     "execution_count": 26,
     "metadata": {},
     "output_type": "execute_result"
    }
   ],
   "source": [
    "# Filter the list to keep only healthy torque files that start with 'T_a_'\n",
    "files_ = [f for f in files if f.startswith('T_a')]\n",
    "\n",
    "col_list = ['rod_1','rod_2','rod_3','rod_4','rod_5','rod_6','rod_7','rod_8','rod_9','rod_10']\n",
    "\n",
    "# Load the files into a DataFrame\n",
    "healthy_torque_df = pd.concat([pd.read_csv(f,header=None, names=col_list) for f in files_], ignore_index=True)\n",
    "print(healthy_torque_df.shape)\n",
    "healthy_torque_df.head()"
   ]
  },
  {
   "cell_type": "code",
   "execution_count": 27,
   "id": "53f02c40",
   "metadata": {
    "scrolled": false
   },
   "outputs": [
    {
     "name": "stdout",
     "output_type": "stream",
     "text": [
      "(3000006, 10)\n"
     ]
    },
    {
     "data": {
      "text/html": [
       "<div>\n",
       "<style scoped>\n",
       "    .dataframe tbody tr th:only-of-type {\n",
       "        vertical-align: middle;\n",
       "    }\n",
       "\n",
       "    .dataframe tbody tr th {\n",
       "        vertical-align: top;\n",
       "    }\n",
       "\n",
       "    .dataframe thead th {\n",
       "        text-align: right;\n",
       "    }\n",
       "</style>\n",
       "<table border=\"1\" class=\"dataframe\">\n",
       "  <thead>\n",
       "    <tr style=\"text-align: right;\">\n",
       "      <th></th>\n",
       "      <th>rod_1</th>\n",
       "      <th>rod_2</th>\n",
       "      <th>rod_3</th>\n",
       "      <th>rod_4</th>\n",
       "      <th>rod_5</th>\n",
       "      <th>rod_6</th>\n",
       "      <th>rod_7</th>\n",
       "      <th>rod_8</th>\n",
       "      <th>rod_9</th>\n",
       "      <th>rod_10</th>\n",
       "    </tr>\n",
       "  </thead>\n",
       "  <tbody>\n",
       "    <tr>\n",
       "      <th>0</th>\n",
       "      <td>3.051400e-21</td>\n",
       "      <td>3.051400e-21</td>\n",
       "      <td>3.051400e-21</td>\n",
       "      <td>3.051400e-21</td>\n",
       "      <td>3.051400e-21</td>\n",
       "      <td>3.051400e-21</td>\n",
       "      <td>3.051400e-21</td>\n",
       "      <td>3.051400e-21</td>\n",
       "      <td>3.051400e-21</td>\n",
       "      <td>1.456300e-13</td>\n",
       "    </tr>\n",
       "    <tr>\n",
       "      <th>1</th>\n",
       "      <td>-3.414800e-19</td>\n",
       "      <td>-3.414800e-19</td>\n",
       "      <td>-3.414800e-19</td>\n",
       "      <td>-3.414800e-19</td>\n",
       "      <td>-3.414800e-19</td>\n",
       "      <td>-3.414800e-19</td>\n",
       "      <td>-3.414800e-19</td>\n",
       "      <td>-3.414800e-19</td>\n",
       "      <td>-3.414800e-19</td>\n",
       "      <td>3.136300e-12</td>\n",
       "    </tr>\n",
       "    <tr>\n",
       "      <th>2</th>\n",
       "      <td>5.825400e-14</td>\n",
       "      <td>5.825400e-14</td>\n",
       "      <td>5.825400e-14</td>\n",
       "      <td>5.825400e-14</td>\n",
       "      <td>5.825400e-14</td>\n",
       "      <td>5.825400e-14</td>\n",
       "      <td>5.825400e-14</td>\n",
       "      <td>5.825400e-14</td>\n",
       "      <td>5.825400e-14</td>\n",
       "      <td>8.327500e-12</td>\n",
       "    </tr>\n",
       "    <tr>\n",
       "      <th>3</th>\n",
       "      <td>1.663400e-13</td>\n",
       "      <td>1.663400e-13</td>\n",
       "      <td>1.663400e-13</td>\n",
       "      <td>1.663400e-13</td>\n",
       "      <td>1.663400e-13</td>\n",
       "      <td>1.663400e-13</td>\n",
       "      <td>1.663400e-13</td>\n",
       "      <td>1.663400e-13</td>\n",
       "      <td>1.663400e-13</td>\n",
       "      <td>1.566000e-11</td>\n",
       "    </tr>\n",
       "    <tr>\n",
       "      <th>4</th>\n",
       "      <td>3.378900e-13</td>\n",
       "      <td>3.378900e-13</td>\n",
       "      <td>3.378900e-13</td>\n",
       "      <td>3.378900e-13</td>\n",
       "      <td>3.378900e-13</td>\n",
       "      <td>3.378900e-13</td>\n",
       "      <td>3.378900e-13</td>\n",
       "      <td>3.378900e-13</td>\n",
       "      <td>3.378900e-13</td>\n",
       "      <td>2.516600e-11</td>\n",
       "    </tr>\n",
       "  </tbody>\n",
       "</table>\n",
       "</div>"
      ],
      "text/plain": [
       "          rod_1         rod_2         rod_3         rod_4         rod_5   \n",
       "0  3.051400e-21  3.051400e-21  3.051400e-21  3.051400e-21  3.051400e-21  \\\n",
       "1 -3.414800e-19 -3.414800e-19 -3.414800e-19 -3.414800e-19 -3.414800e-19   \n",
       "2  5.825400e-14  5.825400e-14  5.825400e-14  5.825400e-14  5.825400e-14   \n",
       "3  1.663400e-13  1.663400e-13  1.663400e-13  1.663400e-13  1.663400e-13   \n",
       "4  3.378900e-13  3.378900e-13  3.378900e-13  3.378900e-13  3.378900e-13   \n",
       "\n",
       "          rod_6         rod_7         rod_8         rod_9        rod_10  \n",
       "0  3.051400e-21  3.051400e-21  3.051400e-21  3.051400e-21  1.456300e-13  \n",
       "1 -3.414800e-19 -3.414800e-19 -3.414800e-19 -3.414800e-19  3.136300e-12  \n",
       "2  5.825400e-14  5.825400e-14  5.825400e-14  5.825400e-14  8.327500e-12  \n",
       "3  1.663400e-13  1.663400e-13  1.663400e-13  1.663400e-13  1.566000e-11  \n",
       "4  3.378900e-13  3.378900e-13  3.378900e-13  3.378900e-13  2.516600e-11  "
      ]
     },
     "execution_count": 27,
     "metadata": {},
     "output_type": "execute_result"
    }
   ],
   "source": [
    "# Filter the list to keep only short-circuit torque files that start with 'T_S_'\n",
    "files_ = [f for f in files if f.startswith('T_S')]\n",
    "\n",
    "col_list = ['rod_1','rod_2','rod_3','rod_4','rod_5','rod_6','rod_7','rod_8','rod_9','rod_10']\n",
    "\n",
    "# Load the files into a DataFrame\n",
    "short_torque_df = pd.concat([pd.read_csv(f,header=None, names=col_list) for f in files_], ignore_index=True)\n",
    "print(short_torque_df.shape)\n",
    "short_torque_df.head()"
   ]
  },
  {
   "cell_type": "code",
   "execution_count": 28,
   "id": "f19fb9e7",
   "metadata": {
    "scrolled": false
   },
   "outputs": [
    {
     "name": "stdout",
     "output_type": "stream",
     "text": [
      "(3000006, 10)\n"
     ]
    },
    {
     "data": {
      "text/html": [
       "<div>\n",
       "<style scoped>\n",
       "    .dataframe tbody tr th:only-of-type {\n",
       "        vertical-align: middle;\n",
       "    }\n",
       "\n",
       "    .dataframe tbody tr th {\n",
       "        vertical-align: top;\n",
       "    }\n",
       "\n",
       "    .dataframe thead th {\n",
       "        text-align: right;\n",
       "    }\n",
       "</style>\n",
       "<table border=\"1\" class=\"dataframe\">\n",
       "  <thead>\n",
       "    <tr style=\"text-align: right;\">\n",
       "      <th></th>\n",
       "      <th>rod_1</th>\n",
       "      <th>rod_2</th>\n",
       "      <th>rod_3</th>\n",
       "      <th>rod_4</th>\n",
       "      <th>rod_5</th>\n",
       "      <th>rod_6</th>\n",
       "      <th>rod_7</th>\n",
       "      <th>rod_8</th>\n",
       "      <th>rod_9</th>\n",
       "      <th>rod_10</th>\n",
       "    </tr>\n",
       "  </thead>\n",
       "  <tbody>\n",
       "    <tr>\n",
       "      <th>0</th>\n",
       "      <td>3.051400e-21</td>\n",
       "      <td>3.051400e-21</td>\n",
       "      <td>3.051400e-21</td>\n",
       "      <td>3.051400e-21</td>\n",
       "      <td>3.051400e-21</td>\n",
       "      <td>3.051400e-21</td>\n",
       "      <td>3.051400e-21</td>\n",
       "      <td>3.051400e-21</td>\n",
       "      <td>3.051400e-21</td>\n",
       "      <td>3.051400e-21</td>\n",
       "    </tr>\n",
       "    <tr>\n",
       "      <th>1</th>\n",
       "      <td>-3.414800e-19</td>\n",
       "      <td>-3.414800e-19</td>\n",
       "      <td>-3.414800e-19</td>\n",
       "      <td>-3.414800e-19</td>\n",
       "      <td>-3.414800e-19</td>\n",
       "      <td>-3.414800e-19</td>\n",
       "      <td>-3.414800e-19</td>\n",
       "      <td>-3.414800e-19</td>\n",
       "      <td>-3.414800e-19</td>\n",
       "      <td>-3.414800e-19</td>\n",
       "    </tr>\n",
       "    <tr>\n",
       "      <th>2</th>\n",
       "      <td>5.825400e-14</td>\n",
       "      <td>5.825400e-14</td>\n",
       "      <td>5.825400e-14</td>\n",
       "      <td>5.825400e-14</td>\n",
       "      <td>5.825400e-14</td>\n",
       "      <td>5.825400e-14</td>\n",
       "      <td>5.825400e-14</td>\n",
       "      <td>5.825400e-14</td>\n",
       "      <td>5.825400e-14</td>\n",
       "      <td>5.825400e-14</td>\n",
       "    </tr>\n",
       "    <tr>\n",
       "      <th>3</th>\n",
       "      <td>1.663400e-13</td>\n",
       "      <td>1.663400e-13</td>\n",
       "      <td>1.663400e-13</td>\n",
       "      <td>1.663400e-13</td>\n",
       "      <td>1.663400e-13</td>\n",
       "      <td>1.663400e-13</td>\n",
       "      <td>1.663400e-13</td>\n",
       "      <td>1.663400e-13</td>\n",
       "      <td>1.663400e-13</td>\n",
       "      <td>1.663400e-13</td>\n",
       "    </tr>\n",
       "    <tr>\n",
       "      <th>4</th>\n",
       "      <td>3.378900e-13</td>\n",
       "      <td>3.378900e-13</td>\n",
       "      <td>3.378900e-13</td>\n",
       "      <td>3.378900e-13</td>\n",
       "      <td>3.378900e-13</td>\n",
       "      <td>3.378900e-13</td>\n",
       "      <td>3.378900e-13</td>\n",
       "      <td>3.378900e-13</td>\n",
       "      <td>3.378900e-13</td>\n",
       "      <td>3.378900e-13</td>\n",
       "    </tr>\n",
       "  </tbody>\n",
       "</table>\n",
       "</div>"
      ],
      "text/plain": [
       "          rod_1         rod_2         rod_3         rod_4         rod_5   \n",
       "0  3.051400e-21  3.051400e-21  3.051400e-21  3.051400e-21  3.051400e-21  \\\n",
       "1 -3.414800e-19 -3.414800e-19 -3.414800e-19 -3.414800e-19 -3.414800e-19   \n",
       "2  5.825400e-14  5.825400e-14  5.825400e-14  5.825400e-14  5.825400e-14   \n",
       "3  1.663400e-13  1.663400e-13  1.663400e-13  1.663400e-13  1.663400e-13   \n",
       "4  3.378900e-13  3.378900e-13  3.378900e-13  3.378900e-13  3.378900e-13   \n",
       "\n",
       "          rod_6         rod_7         rod_8         rod_9        rod_10  \n",
       "0  3.051400e-21  3.051400e-21  3.051400e-21  3.051400e-21  3.051400e-21  \n",
       "1 -3.414800e-19 -3.414800e-19 -3.414800e-19 -3.414800e-19 -3.414800e-19  \n",
       "2  5.825400e-14  5.825400e-14  5.825400e-14  5.825400e-14  5.825400e-14  \n",
       "3  1.663400e-13  1.663400e-13  1.663400e-13  1.663400e-13  1.663400e-13  \n",
       "4  3.378900e-13  3.378900e-13  3.378900e-13  3.378900e-13  3.378900e-13  "
      ]
     },
     "execution_count": 28,
     "metadata": {},
     "output_type": "execute_result"
    }
   ],
   "source": [
    "# Filter the list to keep only step fault torque files that start with 'T_LS'\n",
    "files_ = [f for f in files if f.startswith('T_LS')]\n",
    "\n",
    "col_list = ['rod_1','rod_2','rod_3','rod_4','rod_5','rod_6','rod_7','rod_8','rod_9','rod_10']\n",
    "\n",
    "# Load the files into a DataFrame\n",
    "step_torque_df = pd.concat([pd.read_csv(f,header=None, names=col_list) for f in files_], ignore_index=True)\n",
    "print(step_torque_df.shape)\n",
    "step_torque_df.head()"
   ]
  },
  {
   "cell_type": "code",
   "execution_count": 29,
   "id": "d3f788c0",
   "metadata": {},
   "outputs": [
    {
     "name": "stdout",
     "output_type": "stream",
     "text": [
      "(3000006, 10)\n"
     ]
    },
    {
     "data": {
      "text/html": [
       "<div>\n",
       "<style scoped>\n",
       "    .dataframe tbody tr th:only-of-type {\n",
       "        vertical-align: middle;\n",
       "    }\n",
       "\n",
       "    .dataframe tbody tr th {\n",
       "        vertical-align: top;\n",
       "    }\n",
       "\n",
       "    .dataframe thead th {\n",
       "        text-align: right;\n",
       "    }\n",
       "</style>\n",
       "<table border=\"1\" class=\"dataframe\">\n",
       "  <thead>\n",
       "    <tr style=\"text-align: right;\">\n",
       "      <th></th>\n",
       "      <th>rod_1</th>\n",
       "      <th>rod_2</th>\n",
       "      <th>rod_3</th>\n",
       "      <th>rod_4</th>\n",
       "      <th>rod_5</th>\n",
       "      <th>rod_6</th>\n",
       "      <th>rod_7</th>\n",
       "      <th>rod_8</th>\n",
       "      <th>rod_9</th>\n",
       "      <th>rod_10</th>\n",
       "    </tr>\n",
       "  </thead>\n",
       "  <tbody>\n",
       "    <tr>\n",
       "      <th>0</th>\n",
       "      <td>3.051400e-21</td>\n",
       "      <td>3.051400e-21</td>\n",
       "      <td>3.051400e-21</td>\n",
       "      <td>3.051400e-21</td>\n",
       "      <td>3.051400e-21</td>\n",
       "      <td>3.051400e-21</td>\n",
       "      <td>3.051400e-21</td>\n",
       "      <td>3.051400e-21</td>\n",
       "      <td>3.051400e-21</td>\n",
       "      <td>3.051400e-21</td>\n",
       "    </tr>\n",
       "    <tr>\n",
       "      <th>1</th>\n",
       "      <td>-3.414800e-19</td>\n",
       "      <td>-3.414800e-19</td>\n",
       "      <td>-3.414800e-19</td>\n",
       "      <td>-3.414800e-19</td>\n",
       "      <td>-3.414800e-19</td>\n",
       "      <td>-3.414800e-19</td>\n",
       "      <td>-3.414800e-19</td>\n",
       "      <td>-3.414800e-19</td>\n",
       "      <td>-3.414800e-19</td>\n",
       "      <td>-3.414800e-19</td>\n",
       "    </tr>\n",
       "    <tr>\n",
       "      <th>2</th>\n",
       "      <td>5.825400e-14</td>\n",
       "      <td>5.825400e-14</td>\n",
       "      <td>5.825400e-14</td>\n",
       "      <td>5.825400e-14</td>\n",
       "      <td>5.825400e-14</td>\n",
       "      <td>5.825400e-14</td>\n",
       "      <td>5.825400e-14</td>\n",
       "      <td>5.825400e-14</td>\n",
       "      <td>5.825400e-14</td>\n",
       "      <td>5.825400e-14</td>\n",
       "    </tr>\n",
       "    <tr>\n",
       "      <th>3</th>\n",
       "      <td>1.663400e-13</td>\n",
       "      <td>1.663400e-13</td>\n",
       "      <td>1.663400e-13</td>\n",
       "      <td>1.663400e-13</td>\n",
       "      <td>1.663400e-13</td>\n",
       "      <td>1.663400e-13</td>\n",
       "      <td>1.663400e-13</td>\n",
       "      <td>1.663400e-13</td>\n",
       "      <td>1.663400e-13</td>\n",
       "      <td>1.663400e-13</td>\n",
       "    </tr>\n",
       "    <tr>\n",
       "      <th>4</th>\n",
       "      <td>3.378900e-13</td>\n",
       "      <td>3.378900e-13</td>\n",
       "      <td>3.378900e-13</td>\n",
       "      <td>3.378900e-13</td>\n",
       "      <td>3.378900e-13</td>\n",
       "      <td>3.378900e-13</td>\n",
       "      <td>3.378900e-13</td>\n",
       "      <td>3.378900e-13</td>\n",
       "      <td>3.378900e-13</td>\n",
       "      <td>3.378900e-13</td>\n",
       "    </tr>\n",
       "  </tbody>\n",
       "</table>\n",
       "</div>"
      ],
      "text/plain": [
       "          rod_1         rod_2         rod_3         rod_4         rod_5   \n",
       "0  3.051400e-21  3.051400e-21  3.051400e-21  3.051400e-21  3.051400e-21  \\\n",
       "1 -3.414800e-19 -3.414800e-19 -3.414800e-19 -3.414800e-19 -3.414800e-19   \n",
       "2  5.825400e-14  5.825400e-14  5.825400e-14  5.825400e-14  5.825400e-14   \n",
       "3  1.663400e-13  1.663400e-13  1.663400e-13  1.663400e-13  1.663400e-13   \n",
       "4  3.378900e-13  3.378900e-13  3.378900e-13  3.378900e-13  3.378900e-13   \n",
       "\n",
       "          rod_6         rod_7         rod_8         rod_9        rod_10  \n",
       "0  3.051400e-21  3.051400e-21  3.051400e-21  3.051400e-21  3.051400e-21  \n",
       "1 -3.414800e-19 -3.414800e-19 -3.414800e-19 -3.414800e-19 -3.414800e-19  \n",
       "2  5.825400e-14  5.825400e-14  5.825400e-14  5.825400e-14  5.825400e-14  \n",
       "3  1.663400e-13  1.663400e-13  1.663400e-13  1.663400e-13  1.663400e-13  \n",
       "4  3.378900e-13  3.378900e-13  3.378900e-13  3.378900e-13  3.378900e-13  "
      ]
     },
     "execution_count": 29,
     "metadata": {},
     "output_type": "execute_result"
    }
   ],
   "source": [
    "# Filter the list to keep only Ramp fault torque files that start with 'T_L_'\n",
    "files_ = [f for f in files if f.startswith('T_L')]\n",
    "files_ = [f for f in files_ if not f.startswith('T_LS')]\n",
    "col_list = ['rod_1','rod_2','rod_3','rod_4','rod_5','rod_6','rod_7','rod_8','rod_9','rod_10']\n",
    "\n",
    "# Load the files into a DataFrame\n",
    "ramp_torque_df = pd.concat([pd.read_csv(f,header=None, names=col_list) for f in files_], ignore_index=True)\n",
    "print(ramp_torque_df.shape)\n",
    "ramp_torque_df.head()"
   ]
  },
  {
   "cell_type": "code",
   "execution_count": 30,
   "id": "01a81b7e",
   "metadata": {},
   "outputs": [],
   "source": [
    "import numpy as np\n",
    "import pandas as pd\n",
    "import tensorflow as tf\n",
    "from tensorflow import keras\n",
    "from tensorflow.keras import layers\n",
    "from sklearn.preprocessing import StandardScaler\n",
    "\n",
    "scaler = StandardScaler()\n",
    "\n",
    "# Load and preprocess data\n",
    "healthy_torque=np.array(healthy_torque_df)\n",
    "X_train = scaler.fit_transform(healthy_torque[0:int(0.7*len(healthy_torque)),:])\n",
    "X_test_a = scaler.transform(healthy_torque[int(0.7*len(healthy_torque)):,:])\n",
    "X_test_s = scaler.transform(np.array(short_torque_df))\n",
    "\n",
    "# Define the model\n",
    "input_dim = X_train.shape[1]\n",
    "latent_dim = 2\n",
    "model = keras.Sequential([\n",
    "    layers.Dense(32, activation='relu', input_shape=(input_dim,)),\n",
    "    layers.Dense(16, activation='relu'),\n",
    "    layers.Dense(latent_dim, activation='relu'),\n",
    "    layers.Dense(16, activation='relu'),\n",
    "    layers.Dense(32, activation='relu'),\n",
    "    layers.Dense(input_dim, activation='linear')\n",
    "])\n",
    "\n",
    "# Compile the model\n",
    "model.compile(optimizer='adam', loss='mse')\n"
   ]
  },
  {
   "cell_type": "code",
   "execution_count": 31,
   "id": "f46492b4",
   "metadata": {},
   "outputs": [
    {
     "name": "stdout",
     "output_type": "stream",
     "text": [
      "Epoch 1/6\n",
      "26251/26251 [==============================] - 31s 1ms/step - loss: 0.0146 - val_loss: 0.0178\n",
      "Epoch 2/6\n",
      "26251/26251 [==============================] - 30s 1ms/step - loss: 0.0087 - val_loss: 0.0135\n",
      "Epoch 3/6\n",
      "26251/26251 [==============================] - 31s 1ms/step - loss: 0.0086 - val_loss: 0.0136\n",
      "Epoch 4/6\n",
      "26251/26251 [==============================] - 32s 1ms/step - loss: 0.0086 - val_loss: 0.0134\n",
      "Epoch 5/6\n",
      "26251/26251 [==============================] - 32s 1ms/step - loss: 0.0086 - val_loss: 0.0134\n",
      "Epoch 6/6\n",
      "26251/26251 [==============================] - 31s 1ms/step - loss: 0.0086 - val_loss: 0.0134\n"
     ]
    },
    {
     "data": {
      "text/plain": [
       "<keras.callbacks.History at 0x7f12ac610ca0>"
      ]
     },
     "execution_count": 31,
     "metadata": {},
     "output_type": "execute_result"
    }
   ],
   "source": [
    "# Train the model\n",
    "model.fit(X_train, X_train, epochs=6, batch_size=64, validation_split=0.2)"
   ]
  },
  {
   "cell_type": "code",
   "execution_count": 32,
   "id": "25b3f2e4",
   "metadata": {},
   "outputs": [
    {
     "name": "stdout",
     "output_type": "stream",
     "text": [
      "28126/28126 [==============================] - 18s 649us/step\n",
      "Number of anomalies: 45001\n"
     ]
    },
    {
     "data": {
      "image/png": "[encoded data removed]",
      "text/plain": [
       "<Figure size 432x288 with 1 Axes>"
      ]
     },
     "metadata": {
      "needs_background": "light"
     },
     "output_type": "display_data"
    }
   ],
   "source": [
    "# Evaluate the model\n",
    "X_pred = model.predict(X_test_a)\n",
    "mse = np.mean(np.power(X_test_a - X_pred, 2), axis=1)\n",
    "threshold = np.percentile(mse, 95)\n",
    "anomalies = np.where(mse > threshold)[0]\n",
    "print('Number of anomalies:', len(anomalies))\n",
    "\n",
    "# Predict Fault\n",
    "predictions = np.zeros_like(mse)\n",
    "predictions[mse > threshold] = 1\n",
    "\n",
    "# Plot Hypothesis Curve\n",
    "import matplotlib.pyplot as plt\n",
    "plt.plot(predictions, 'r*')\n",
    "plt.xlabel('Observation')\n",
    "plt.ylabel('Prediction')\n",
    "plt.title('Fault Hypothesis Plot - Healthy Test')\n",
    "plt.show()"
   ]
  },
  {
   "cell_type": "code",
   "execution_count": 33,
   "id": "10e30273",
   "metadata": {
    "scrolled": true
   },
   "outputs": [
    {
     "name": "stdout",
     "output_type": "stream",
     "text": [
      "28126/28126 [==============================] - 18s 641us/step\n"
     ]
    },
    {
     "data": {
      "image/png": "[encoded data removed]",
      "text/plain": [
       "<Figure size 720x360 with 1 Axes>"
      ]
     },
     "metadata": {
      "needs_background": "light"
     },
     "output_type": "display_data"
    }
   ],
   "source": [
    "# Calculate reconstruction error for each variable on test data\n",
    "test_data_pred = model.predict(X_test_a)\n",
    "test_data_recon_error = np.abs(X_test_a - test_data_pred)\n",
    "variable_recon_error = np.mean(test_data_recon_error, axis=0)\n",
    "# Visualize reconstruction error per variable\n",
    "import matplotlib.pyplot as plt\n",
    "\n",
    "plt.figure(figsize=(10,5))\n",
    "plt.bar(range(1, input_dim+1), variable_recon_error)\n",
    "plt.xticks(range(1, input_dim+1), ramp_torque_df.columns, rotation=90)\n",
    "plt.ylabel('Reconstruction error')\n",
    "plt.xlabel('Rods')\n",
    "plt.ylim(0,0.5)\n",
    "plt.title('Healthy Test Test')\n",
    "plt.show()"
   ]
  },
  {
   "cell_type": "code",
   "execution_count": 34,
   "id": "9aef46d5",
   "metadata": {},
   "outputs": [],
   "source": [
    "col_threshold_a = np.percentile(variable_recon_error, 95)\n",
    "# anomalies = np.where(variable_recon_error > col_threshold_a)[0]"
   ]
  },
  {
   "cell_type": "code",
   "execution_count": null,
   "id": "91449c76",
   "metadata": {},
   "outputs": [],
   "source": []
  },
  {
   "cell_type": "code",
   "execution_count": 35,
   "id": "49f1fbd7",
   "metadata": {},
   "outputs": [
    {
     "name": "stdout",
     "output_type": "stream",
     "text": [
      "93751/93751 [==============================] - 58s 616us/step\n",
      "Number of anomalies: 1536346\n"
     ]
    },
    {
     "data": {
      "image/png": "[encoded data removed]",
      "text/plain": [
       "<Figure size 432x288 with 1 Axes>"
      ]
     },
     "metadata": {
      "needs_background": "light"
     },
     "output_type": "display_data"
    }
   ],
   "source": [
    "# Evaluate the model\n",
    "X_pred = model.predict(X_test_s)\n",
    "mse = np.mean(np.power(X_test_s - X_pred, 2), axis=1)\n",
    "# threshold = np.percentile(mse, 95)\n",
    "anomalies = np.where(mse > threshold)[0]\n",
    "print('Number of anomalies:', len(anomalies))\n",
    "\n",
    "# Predict Fault\n",
    "predictions = np.zeros_like(mse)\n",
    "predictions[mse > threshold] = 1\n",
    "\n",
    "# Plot Hypothesis Curve\n",
    "import matplotlib.pyplot as plt\n",
    "plt.plot(predictions, 'r*')\n",
    "plt.xlabel('Observation')\n",
    "plt.ylabel('Prediction')\n",
    "plt.title('Fault Hypothesis Plot - Short-Circuit')\n",
    "plt.show()"
   ]
  },
  {
   "cell_type": "code",
   "execution_count": 36,
   "id": "218d4fed",
   "metadata": {
    "scrolled": false
   },
   "outputs": [
    {
     "name": "stdout",
     "output_type": "stream",
     "text": [
      "93751/93751 [==============================] - 62s 663us/step\n"
     ]
    },
    {
     "data": {
      "image/png": "[encoded data removed]",
      "text/plain": [
       "<Figure size 720x360 with 1 Axes>"
      ]
     },
     "metadata": {
      "needs_background": "light"
     },
     "output_type": "display_data"
    }
   ],
   "source": [
    "# Calculate reconstruction error for each variable on test data\n",
    "test_data_pred = model.predict(X_test_s)\n",
    "test_data_recon_error = np.abs(X_test_s - test_data_pred)\n",
    "variable_recon_error = np.mean(test_data_recon_error, axis=0)\n",
    "# Visualize reconstruction error per variable\n",
    "import matplotlib.pyplot as plt\n",
    "\n",
    "plt.figure(figsize=(10,5))\n",
    "plt.bar(range(1, input_dim+1), variable_recon_error)\n",
    "plt.xticks(range(1, input_dim+1), ramp_torque_df.columns, rotation=90)\n",
    "plt.ylabel('Reconstruction error')\n",
    "plt.xlabel('Rods')\n",
    "plt.ylim(0,0.7)\n",
    "plt.title('Short-Circuit Fault Test')\n",
    "plt.show()"
   ]
  },
  {
   "cell_type": "code",
   "execution_count": 37,
   "id": "02f0f7b4",
   "metadata": {
    "scrolled": true
   },
   "outputs": [
    {
     "name": "stdout",
     "output_type": "stream",
     "text": [
      "93751/93751 [==============================] - 61s 649us/step\n",
      "Number of anomalies: 571292\n"
     ]
    },
    {
     "data": {
      "image/png": "[encoded data removed]",
      "text/plain": [
       "<Figure size 432x288 with 1 Axes>"
      ]
     },
     "metadata": {
      "needs_background": "light"
     },
     "output_type": "display_data"
    }
   ],
   "source": [
    "X_test_ramp = scaler.transform(np.array(ramp_torque_df))\n",
    "\n",
    "# Evaluate the model\n",
    "X_pred = model.predict(X_test_ramp)\n",
    "mse = np.mean(np.power(X_test_ramp - X_pred, 2), axis=1)\n",
    "# threshold = np.percentile(mse, 95)\n",
    "anomalies = np.where(mse > threshold)[0]\n",
    "print('Number of anomalies:', len(anomalies))\n",
    "\n",
    "# Predict Fault\n",
    "predictions = np.zeros_like(mse)\n",
    "predictions[mse > threshold] = 1\n",
    "\n",
    "# Plot Hypothesis Curve\n",
    "import matplotlib.pyplot as plt\n",
    "plt.plot(predictions, 'r*')\n",
    "plt.xlabel('Observation')\n",
    "plt.ylabel('Prediction')\n",
    "plt.title('Fault Hypothesis Plot - Ramp Test')\n",
    "plt.show()"
   ]
  },
  {
   "cell_type": "code",
   "execution_count": 38,
   "id": "712abdaa",
   "metadata": {
    "scrolled": false
   },
   "outputs": [
    {
     "name": "stdout",
     "output_type": "stream",
     "text": [
      "93751/93751 [==============================] - 61s 650us/step\n"
     ]
    },
    {
     "data": {
      "image/png": "[encoded data removed]",
      "text/plain": [
       "<Figure size 720x360 with 1 Axes>"
      ]
     },
     "metadata": {
      "needs_background": "light"
     },
     "output_type": "display_data"
    }
   ],
   "source": [
    "# Calculate reconstruction error for each variable on test data\n",
    "test_data_pred = model.predict(X_test_ramp)\n",
    "test_data_recon_error = np.abs(X_test_ramp - test_data_pred)\n",
    "variable_recon_error = np.mean(test_data_recon_error, axis=0)\n",
    "\n",
    "# Visualize reconstruction error per variable\n",
    "import matplotlib.pyplot as plt\n",
    "\n",
    "plt.figure(figsize=(10,5))\n",
    "plt.bar(range(1, input_dim+1), variable_recon_error)\n",
    "plt.xticks(range(1, input_dim+1), ramp_torque_df.columns, rotation=90)\n",
    "plt.ylabel('Reconstruction Error')\n",
    "plt.xlabel('Rods')\n",
    "plt.ylim(0,0.4)\n",
    "plt.title('Ramp_Test')\n",
    "plt.show()"
   ]
  },
  {
   "cell_type": "code",
   "execution_count": 39,
   "id": "dc5dbbfa",
   "metadata": {},
   "outputs": [
    {
     "name": "stdout",
     "output_type": "stream",
     "text": [
      "93751/93751 [==============================] - 60s 636us/step\n",
      "Number of anomalies: 230055\n"
     ]
    },
    {
     "data": {
      "image/png": "[encoded data removed]",
      "text/plain": [
       "<Figure size 432x288 with 1 Axes>"
      ]
     },
     "metadata": {
      "needs_background": "light"
     },
     "output_type": "display_data"
    }
   ],
   "source": [
    "X_test_step = scaler.transform(np.array(step_torque_df))\n",
    "\n",
    "# Evaluate the model\n",
    "X_pred = model.predict(X_test_step)\n",
    "mse = np.mean(np.power(X_test_step - X_pred, 2), axis=1)\n",
    "# threshold = np.percentile(mse, 95)\n",
    "anomalies = np.where(mse > threshold)[0]\n",
    "print('Number of anomalies:', len(anomalies))\n",
    "\n",
    "# Predict Fault\n",
    "predictions = np.zeros_like(mse)\n",
    "predictions[mse > threshold] = 1\n",
    "\n",
    "# Plot Hypothesis Curve\n",
    "import matplotlib.pyplot as plt\n",
    "plt.plot(predictions, 'r*')\n",
    "plt.xlabel('Observation')\n",
    "plt.ylabel('Prediction')\n",
    "plt.title('Fault Hypothesis Plot - Step Test')\n",
    "plt.show()"
   ]
  },
  {
   "cell_type": "code",
   "execution_count": 40,
   "id": "a5c4cc35",
   "metadata": {
    "scrolled": true
   },
   "outputs": [
    {
     "name": "stdout",
     "output_type": "stream",
     "text": [
      "93751/93751 [==============================] - 54s 577us/step\n"
     ]
    },
    {
     "data": {
      "image/png": "[encoded data removed]",
      "text/plain": [
       "<Figure size 720x360 with 1 Axes>"
      ]
     },
     "metadata": {
      "needs_background": "light"
     },
     "output_type": "display_data"
    }
   ],
   "source": [
    "# Calculate reconstruction error for each variable on test data\n",
    "test_data_pred = model.predict(X_test_step)\n",
    "test_data_recon_error = np.abs(X_test_step - test_data_pred)\n",
    "variable_recon_error = np.mean(test_data_recon_error, axis=0)\n",
    "\n",
    "# Visualize reconstruction error per variable\n",
    "import matplotlib.pyplot as plt\n",
    "\n",
    "plt.figure(figsize=(10,5))\n",
    "plt.bar(range(1, input_dim+1), variable_recon_error)\n",
    "plt.xticks(range(1, input_dim+1), ramp_torque_df.columns, rotation=90)\n",
    "plt.ylabel('Reconstruction Error')\n",
    "plt.xlabel('Rods')\n",
    "plt.ylim(0,0.3)\n",
    "plt.title('Step_Test')\n",
    "plt.show()"
   ]
  },
  {
   "cell_type": "markdown",
   "id": "4410c481",
   "metadata": {},
   "source": [
    "### Multiple Faults in a Bank"
   ]
  },
  {
   "cell_type": "code",
   "execution_count": 41,
   "id": "075b750b",
   "metadata": {},
   "outputs": [
    {
     "data": {
      "text/plain": [
       "(3000006, 1)"
      ]
     },
     "execution_count": 41,
     "metadata": {},
     "output_type": "execute_result"
    }
   ],
   "source": [
    "X_test_s[:,9:10].shape"
   ]
  },
  {
   "cell_type": "code",
   "execution_count": 42,
   "id": "a03fdbdd",
   "metadata": {},
   "outputs": [
    {
     "data": {
      "text/plain": [
       "(3000006, 10)"
      ]
     },
     "execution_count": 42,
     "metadata": {},
     "output_type": "execute_result"
    }
   ],
   "source": [
    "X_ramp_step = np.concatenate([X_test_s[:,0:4], X_test_ramp[:,9:10],X_test_s[:,5:9],X_test_step[:,9:10]], axis=1)\n",
    "X_ramp_step.shape"
   ]
  },
  {
   "cell_type": "code",
   "execution_count": 43,
   "id": "a5004d1c",
   "metadata": {
    "scrolled": false
   },
   "outputs": [
    {
     "name": "stdout",
     "output_type": "stream",
     "text": [
      "93751/93751 [==============================] - 57s 608us/step\n"
     ]
    },
    {
     "data": {
      "image/png": "[encoded data removed]",
      "text/plain": [
       "<Figure size 720x360 with 1 Axes>"
      ]
     },
     "metadata": {
      "needs_background": "light"
     },
     "output_type": "display_data"
    }
   ],
   "source": [
    "# Calculate reconstruction error for each variable on test data\n",
    "test_data_pred = model.predict(X_ramp_step)\n",
    "test_data_recon_error = np.abs(X_ramp_step - test_data_pred)\n",
    "variable_recon_error = np.mean(test_data_recon_error, axis=0)\n",
    "\n",
    "# Visualize reconstruction error per variable\n",
    "import matplotlib.pyplot as plt\n",
    "\n",
    "plt.figure(figsize=(10,5))\n",
    "plt.bar(range(1, input_dim+1), variable_recon_error)\n",
    "plt.xticks(range(1, input_dim+1), ramp_torque_df.columns, rotation=90)\n",
    "plt.ylabel('Reconstruction Error')\n",
    "plt.xlabel('Rods')\n",
    "plt.title('Combined Ramp(5)/Step(10) Faults Test')\n",
    "plt.show()"
   ]
  },
  {
   "cell_type": "code",
   "execution_count": 44,
   "id": "29c16f49",
   "metadata": {},
   "outputs": [
    {
     "name": "stdout",
     "output_type": "stream",
     "text": [
      "Number of anomalies: 2\n"
     ]
    },
    {
     "data": {
      "text/plain": [
       "Text(0.5, 1.0, 'Combined Ramp(5)/Step(10) Faults Test')"
      ]
     },
     "execution_count": 44,
     "metadata": {},
     "output_type": "execute_result"
    },
    {
     "data": {
      "image/png": "[encoded data removed]",
      "text/plain": [
       "<Figure size 432x288 with 1 Axes>"
      ]
     },
     "metadata": {
      "needs_background": "light"
     },
     "output_type": "display_data"
    }
   ],
   "source": [
    "col_threshold = np.percentile(variable_recon_error, 80)\n",
    "anomalies = np.where(variable_recon_error > col_threshold)[0]\n",
    "print('Number of anomalies:', len(anomalies))\n",
    "predictions = np.zeros_like(variable_recon_error)\n",
    "predictions[variable_recon_error > col_threshold] = 1\n",
    "plt.plot(range(1, input_dim+1), predictions,'r*')\n",
    "plt.xticks(range(1, input_dim+1), ramp_torque_df.columns, rotation=90)\n",
    "plt.ylabel('Fault Classification')\n",
    "plt.xlabel('Rods')\n",
    "# plt.ylim(0,1)\n",
    "plt.title('Combined Ramp(5)/Step(10) Faults Test')"
   ]
  },
  {
   "cell_type": "code",
   "execution_count": 45,
   "id": "2e3d7055",
   "metadata": {},
   "outputs": [
    {
     "data": {
      "text/plain": [
       "(3000006, 10)"
      ]
     },
     "execution_count": 45,
     "metadata": {},
     "output_type": "execute_result"
    }
   ],
   "source": [
    "X_short_ramp_step = np.concatenate([X_test_s[:,9:10], X_test_s[:,0:3], X_test_ramp[:,9:10],X_test_s[:,5:9],X_test_step[:,9:10]], axis=1)\n",
    "X_short_ramp_step.shape"
   ]
  },
  {
   "cell_type": "code",
   "execution_count": 46,
   "id": "b777cd3a",
   "metadata": {
    "scrolled": false
   },
   "outputs": [
    {
     "name": "stdout",
     "output_type": "stream",
     "text": [
      "93751/93751 [==============================] - 57s 604us/step\n"
     ]
    },
    {
     "data": {
      "image/png": "[encoded data removed]",
      "text/plain": [
       "<Figure size 720x360 with 1 Axes>"
      ]
     },
     "metadata": {
      "needs_background": "light"
     },
     "output_type": "display_data"
    }
   ],
   "source": [
    "# Calculate reconstruction error for each variable on test data\n",
    "test_data_pred = model.predict(X_short_ramp_step)\n",
    "test_data_recon_error = np.abs(X_short_ramp_step - test_data_pred)\n",
    "variable_recon_error = np.mean(test_data_recon_error, axis=0)\n",
    "\n",
    "# Visualize reconstruction error per variable\n",
    "import matplotlib.pyplot as plt\n",
    "\n",
    "plt.figure(figsize=(10,5))\n",
    "plt.bar(range(1, input_dim+1), variable_recon_error)\n",
    "plt.xticks(range(1, input_dim+1), ramp_torque_df.columns, rotation=90)\n",
    "plt.ylabel('Reconstruction Error')\n",
    "plt.xlabel('Rods')\n",
    "plt.title('Combined Short(1)/Ramp(5)/Step(10) Faults Test')\n",
    "plt.show()"
   ]
  },
  {
   "cell_type": "code",
   "execution_count": 47,
   "id": "f6bcd218",
   "metadata": {},
   "outputs": [
    {
     "name": "stdout",
     "output_type": "stream",
     "text": [
      "Number of anomalies: 3\n"
     ]
    },
    {
     "data": {
      "text/plain": [
       "Text(0.5, 1.0, 'Combined Short(1)/Ramp(5)/Step(10) Faults Test')"
      ]
     },
     "execution_count": 47,
     "metadata": {},
     "output_type": "execute_result"
    },
    {
     "data": {
      "image/png": "[encoded data removed]",
      "text/plain": [
       "<Figure size 432x288 with 1 Axes>"
      ]
     },
     "metadata": {
      "needs_background": "light"
     },
     "output_type": "display_data"
    }
   ],
   "source": [
    "col_threshold = np.percentile(variable_recon_error, 70)\n",
    "anomalies = np.where(variable_recon_error > col_threshold)[0]\n",
    "print('Number of anomalies:', len(anomalies))\n",
    "predictions = np.zeros_like(variable_recon_error)\n",
    "predictions[variable_recon_error > col_threshold] = 1\n",
    "plt.plot(range(1, input_dim+1), predictions,'r*')\n",
    "plt.xticks(range(1, input_dim+1), ramp_torque_df.columns, rotation=90)\n",
    "plt.ylabel('Fault Classification')\n",
    "plt.xlabel('Rods')\n",
    "# plt.ylim(0,1)\n",
    "plt.title('Combined Short(1)/Ramp(5)/Step(10) Faults Test')"
   ]
  },
  {
   "cell_type": "markdown",
   "id": "f56652a8",
   "metadata": {},
   "source": [
    "## Minimum Required Effective Variables"
   ]
  },
  {
   "cell_type": "markdown",
   "id": "052aa9f0",
   "metadata": {},
   "source": [
    "### 3 Rods"
   ]
  },
  {
   "cell_type": "code",
   "execution_count": 48,
   "id": "dae64fbe",
   "metadata": {},
   "outputs": [],
   "source": [
    "import numpy as np\n",
    "import pandas as pd\n",
    "import tensorflow as tf\n",
    "from tensorflow import keras\n",
    "from tensorflow.keras import layers\n",
    "from sklearn.preprocessing import StandardScaler\n",
    "\n",
    "scaler = StandardScaler()\n",
    "\n",
    "# Load and preprocess data\n",
    "healthy_torque=np.array(healthy_torque_df)\n",
    "X_train_m3 = scaler.fit_transform(healthy_torque[0:int(0.7*len(healthy_torque)),7:10])\n",
    "X_test_m3_a = scaler.transform(healthy_torque[int(0.7*len(healthy_torque)):,7:10])\n",
    "X_test_m3_s = scaler.transform(np.array(short_torque_df)[:,7:10])\n",
    "X_test_m3_ramp = scaler.transform(np.array(ramp_torque_df)[:,7:10])\n",
    "X_test_m3_step = scaler.transform(np.array(step_torque_df)[:,7:10])\n",
    "\n",
    "\n",
    "# Define the model\n",
    "input_dim = X_train_m3.shape[1]\n",
    "latent_dim = 1\n",
    "model_3 = keras.Sequential([\n",
    "    layers.Dense(32, activation='relu', input_shape=(input_dim,)),\n",
    "    layers.Dense(16, activation='relu'),\n",
    "    layers.Dense(latent_dim, activation='relu'),\n",
    "    layers.Dense(16, activation='relu'),\n",
    "    layers.Dense(32, activation='relu'),\n",
    "    layers.Dense(input_dim, activation='linear')\n",
    "])\n",
    "\n",
    "# Compile the model\n",
    "model_3.compile(optimizer='adam', loss='mse')\n"
   ]
  },
  {
   "cell_type": "code",
   "execution_count": 49,
   "id": "53872d5f",
   "metadata": {},
   "outputs": [
    {
     "name": "stdout",
     "output_type": "stream",
     "text": [
      "Epoch 1/6\n",
      "26251/26251 [==============================] - 32s 1ms/step - loss: 0.0112 - val_loss: 0.0121\n",
      "Epoch 2/6\n",
      "26251/26251 [==============================] - 29s 1ms/step - loss: 0.0065 - val_loss: 0.0123\n",
      "Epoch 3/6\n",
      "26251/26251 [==============================] - 31s 1ms/step - loss: 0.0064 - val_loss: 0.0117\n",
      "Epoch 4/6\n",
      "26251/26251 [==============================] - 32s 1ms/step - loss: 0.0064 - val_loss: 0.0115\n",
      "Epoch 5/6\n",
      "26251/26251 [==============================] - 31s 1ms/step - loss: 0.0064 - val_loss: 0.0114\n",
      "Epoch 6/6\n",
      "26251/26251 [==============================] - 31s 1ms/step - loss: 0.0064 - val_loss: 0.0115\n"
     ]
    },
    {
     "data": {
      "text/plain": [
       "<keras.callbacks.History at 0x7f12e44e14f0>"
      ]
     },
     "execution_count": 49,
     "metadata": {},
     "output_type": "execute_result"
    }
   ],
   "source": [
    "model_3.fit(X_train_m3, X_train_m3, epochs=6, batch_size=64, validation_split=0.2)"
   ]
  },
  {
   "cell_type": "code",
   "execution_count": 50,
   "id": "bc1b753f",
   "metadata": {},
   "outputs": [
    {
     "name": "stdout",
     "output_type": "stream",
     "text": [
      "28126/28126 [==============================] - 19s 656us/step\n"
     ]
    },
    {
     "data": {
      "image/png": "[encoded data removed]",
      "text/plain": [
       "<Figure size 720x360 with 1 Axes>"
      ]
     },
     "metadata": {
      "needs_background": "light"
     },
     "output_type": "display_data"
    }
   ],
   "source": [
    "# Calculate reconstruction error for each variable on test data\n",
    "test_data_pred = model_3.predict(X_test_m3_a)\n",
    "test_data_recon_error = np.abs(X_test_m3_a - test_data_pred)\n",
    "variable_recon_error = np.mean(test_data_recon_error, axis=0)\n",
    "# Visualize reconstruction error per variable\n",
    "import matplotlib.pyplot as plt\n",
    "\n",
    "plt.figure(figsize=(10,5))\n",
    "plt.bar(range(1, input_dim+1), variable_recon_error)\n",
    "plt.xticks(range(1, input_dim+1), ramp_torque_df.columns[0:3], rotation=90)\n",
    "plt.ylabel('Reconstruction error')\n",
    "plt.xlabel('Rods')\n",
    "plt.ylim(0,0.5)\n",
    "plt.title('Healthy Test')\n",
    "plt.show()"
   ]
  },
  {
   "cell_type": "code",
   "execution_count": 51,
   "id": "3814ec14",
   "metadata": {},
   "outputs": [
    {
     "name": "stdout",
     "output_type": "stream",
     "text": [
      "93751/93751 [==============================] - 60s 635us/step\n"
     ]
    },
    {
     "data": {
      "image/png": "[encoded data removed]",
      "text/plain": [
       "<Figure size 720x360 with 1 Axes>"
      ]
     },
     "metadata": {
      "needs_background": "light"
     },
     "output_type": "display_data"
    }
   ],
   "source": [
    "test_data_pred = model_3.predict(X_test_m3_s)\n",
    "test_data_recon_error = np.abs(X_test_m3_s - test_data_pred)\n",
    "variable_recon_error = np.mean(test_data_recon_error, axis=0)\n",
    "# Visualize reconstruction error per variable\n",
    "import matplotlib.pyplot as plt\n",
    "\n",
    "plt.figure(figsize=(10,5))\n",
    "plt.bar(range(1, input_dim+1), variable_recon_error)\n",
    "plt.xticks(range(1, input_dim+1), ramp_torque_df.columns[0:3], rotation=90)\n",
    "plt.ylabel('Reconstruction error')\n",
    "plt.xlabel('Rods')\n",
    "plt.ylim(0,0.5)\n",
    "plt.title('Short Fault Test')\n",
    "plt.show()"
   ]
  },
  {
   "cell_type": "code",
   "execution_count": 52,
   "id": "234a0450",
   "metadata": {},
   "outputs": [
    {
     "name": "stdout",
     "output_type": "stream",
     "text": [
      "93751/93751 [==============================] - 60s 634us/step\n"
     ]
    },
    {
     "data": {
      "image/png": "[encoded data removed]",
      "text/plain": [
       "<Figure size 720x360 with 1 Axes>"
      ]
     },
     "metadata": {
      "needs_background": "light"
     },
     "output_type": "display_data"
    }
   ],
   "source": [
    "test_data_pred = model_3.predict(X_test_m3_ramp)\n",
    "test_data_recon_error = np.abs(X_test_m3_ramp - test_data_pred)\n",
    "variable_recon_error = np.mean(test_data_recon_error, axis=0)\n",
    "# Visualize reconstruction error per variable\n",
    "import matplotlib.pyplot as plt\n",
    "\n",
    "plt.figure(figsize=(10,5))\n",
    "plt.bar(range(1, input_dim+1), variable_recon_error)\n",
    "plt.xticks(range(1, input_dim+1), ramp_torque_df.columns[0:3], rotation=90)\n",
    "plt.ylabel('Reconstruction error')\n",
    "plt.xlabel('Rods')\n",
    "# plt.ylim(0,0.5)\n",
    "plt.title('Ramp Fault Test')\n",
    "plt.show()"
   ]
  },
  {
   "cell_type": "code",
   "execution_count": 53,
   "id": "bdf12d6c",
   "metadata": {
    "scrolled": true
   },
   "outputs": [
    {
     "name": "stdout",
     "output_type": "stream",
     "text": [
      "93751/93751 [==============================] - 59s 626us/step\n"
     ]
    },
    {
     "data": {
      "image/png": "[encoded data removed]",
      "text/plain": [
       "<Figure size 720x360 with 1 Axes>"
      ]
     },
     "metadata": {
      "needs_background": "light"
     },
     "output_type": "display_data"
    }
   ],
   "source": [
    "test_data_pred = model_3.predict(X_test_m3_step)\n",
    "test_data_recon_error = np.abs(X_test_m3_step - test_data_pred)\n",
    "variable_recon_error = np.mean(test_data_recon_error, axis=0)\n",
    "# Visualize reconstruction error per variable\n",
    "import matplotlib.pyplot as plt\n",
    "\n",
    "plt.figure(figsize=(10,5))\n",
    "plt.bar(range(1, input_dim+1), variable_recon_error)\n",
    "plt.xticks(range(1, input_dim+1), ramp_torque_df.columns[0:3], rotation=90)\n",
    "plt.ylabel('Reconstruction error')\n",
    "plt.xlabel('Rods')\n",
    "# plt.ylim(0,0.5)\n",
    "plt.title('Step Fault Test')\n",
    "plt.show()"
   ]
  },
  {
   "cell_type": "markdown",
   "id": "de3eee0e",
   "metadata": {},
   "source": [
    "### 2 Rods"
   ]
  },
  {
   "cell_type": "code",
   "execution_count": 54,
   "id": "af5d350f",
   "metadata": {},
   "outputs": [],
   "source": [
    "import numpy as np\n",
    "import pandas as pd\n",
    "import tensorflow as tf\n",
    "from tensorflow import keras\n",
    "from tensorflow.keras import layers\n",
    "from sklearn.preprocessing import StandardScaler\n",
    "\n",
    "scaler = StandardScaler()\n",
    "\n",
    "# Load and preprocess data\n",
    "healthy_torque=np.array(healthy_torque_df)\n",
    "X_train_m2 = scaler.fit_transform(healthy_torque[0:int(0.7*len(healthy_torque)),8:10])\n",
    "X_test_m2_a = scaler.transform(healthy_torque[int(0.7*len(healthy_torque)):,8:10])\n",
    "X_test_m2_s = scaler.transform(np.array(short_torque_df)[:,8:10])\n",
    "X_test_m2_ramp = scaler.transform(np.array(ramp_torque_df)[:,8:10])\n",
    "X_test_m2_step = scaler.transform(np.array(step_torque_df)[:,8:10])\n",
    "\n",
    "\n",
    "# Define the model\n",
    "input_dim = X_train_m2.shape[1]\n",
    "latent_dim = 1\n",
    "model_4 = keras.Sequential([\n",
    "    layers.Dense(32, activation='relu', input_shape=(input_dim,)),\n",
    "    layers.Dense(16, activation='relu'),\n",
    "    layers.Dense(latent_dim, activation='relu'),\n",
    "    layers.Dense(16, activation='relu'),\n",
    "    layers.Dense(32, activation='relu'),\n",
    "    layers.Dense(input_dim, activation='linear')\n",
    "])\n",
    "\n",
    "# Compile the model\n",
    "model_4.compile(optimizer='adam', loss='mse')\n"
   ]
  },
  {
   "cell_type": "code",
   "execution_count": 55,
   "id": "8605ac65",
   "metadata": {},
   "outputs": [
    {
     "name": "stdout",
     "output_type": "stream",
     "text": [
      "Epoch 1/6\n",
      "26251/26251 [==============================] - 32s 1ms/step - loss: 0.0106 - val_loss: 0.0085\n",
      "Epoch 2/6\n",
      "26251/26251 [==============================] - 30s 1ms/step - loss: 0.0050 - val_loss: 0.0115\n",
      "Epoch 3/6\n",
      "26251/26251 [==============================] - 30s 1ms/step - loss: 0.0050 - val_loss: 0.0081\n",
      "Epoch 4/6\n",
      "26251/26251 [==============================] - 30s 1ms/step - loss: 0.0050 - val_loss: 0.0081\n",
      "Epoch 5/6\n",
      "26251/26251 [==============================] - 30s 1ms/step - loss: 0.0050 - val_loss: 0.0081\n",
      "Epoch 6/6\n",
      "26251/26251 [==============================] - 32s 1ms/step - loss: 0.0050 - val_loss: 0.0081\n"
     ]
    },
    {
     "data": {
      "text/plain": [
       "<keras.callbacks.History at 0x7f12ac499a30>"
      ]
     },
     "execution_count": 55,
     "metadata": {},
     "output_type": "execute_result"
    }
   ],
   "source": [
    "model_4.fit(X_train_m2, X_train_m2, epochs=6, batch_size=64, validation_split=0.2)"
   ]
  },
  {
   "cell_type": "code",
   "execution_count": 56,
   "id": "b3fb073c",
   "metadata": {},
   "outputs": [
    {
     "name": "stdout",
     "output_type": "stream",
     "text": [
      "28126/28126 [==============================] - 18s 645us/step\n"
     ]
    },
    {
     "data": {
      "image/png": "[encoded data removed]",
      "text/plain": [
       "<Figure size 720x360 with 1 Axes>"
      ]
     },
     "metadata": {
      "needs_background": "light"
     },
     "output_type": "display_data"
    }
   ],
   "source": [
    "# Calculate reconstruction error for each variable on test data\n",
    "test_data_pred = model_4.predict(X_test_m2_a)\n",
    "test_data_recon_error = np.abs(X_test_m2_a - test_data_pred)\n",
    "variable_recon_error = np.mean(test_data_recon_error, axis=0)\n",
    "# Visualize reconstruction error per variable\n",
    "import matplotlib.pyplot as plt\n",
    "\n",
    "plt.figure(figsize=(10,5))\n",
    "plt.bar(range(1, input_dim+1), variable_recon_error)\n",
    "plt.xticks(range(1, input_dim+1), ramp_torque_df.columns[0:2], rotation=90)\n",
    "plt.ylabel('Reconstruction error')\n",
    "plt.xlabel('Rods')\n",
    "# plt.ylim(0,0.5)\n",
    "plt.title('Healthy Test')\n",
    "plt.show()"
   ]
  },
  {
   "cell_type": "code",
   "execution_count": 57,
   "id": "ee8c4469",
   "metadata": {},
   "outputs": [
    {
     "name": "stdout",
     "output_type": "stream",
     "text": [
      "93751/93751 [==============================] - 62s 663us/step\n"
     ]
    },
    {
     "data": {
      "image/png": "[encoded data removed]",
      "text/plain": [
       "<Figure size 720x360 with 1 Axes>"
      ]
     },
     "metadata": {
      "needs_background": "light"
     },
     "output_type": "display_data"
    }
   ],
   "source": [
    "test_data_pred = model_4.predict(X_test_m2_s)\n",
    "test_data_recon_error = np.abs(X_test_m2_s - test_data_pred)\n",
    "variable_recon_error = np.mean(test_data_recon_error, axis=0)\n",
    "# Visualize reconstruction error per variable\n",
    "import matplotlib.pyplot as plt\n",
    "\n",
    "plt.figure(figsize=(10,5))\n",
    "plt.bar(range(1, input_dim+1), variable_recon_error)\n",
    "plt.xticks(range(1, input_dim+1), ramp_torque_df.columns[0:2], rotation=90)\n",
    "plt.ylabel('Reconstruction error')\n",
    "plt.xlabel('Rods')\n",
    "# plt.ylim(0,0.5)\n",
    "plt.title('Short Fault Test')\n",
    "plt.show()"
   ]
  },
  {
   "cell_type": "code",
   "execution_count": 58,
   "id": "b68f821b",
   "metadata": {},
   "outputs": [
    {
     "name": "stdout",
     "output_type": "stream",
     "text": [
      "93751/93751 [==============================] - 62s 666us/step\n"
     ]
    },
    {
     "data": {
      "image/png": "[encoded data removed]",
      "text/plain": [
       "<Figure size 720x360 with 1 Axes>"
      ]
     },
     "metadata": {
      "needs_background": "light"
     },
     "output_type": "display_data"
    }
   ],
   "source": [
    "test_data_pred = model_4.predict(X_test_m2_ramp)\n",
    "test_data_recon_error = np.abs(X_test_m2_ramp - test_data_pred)\n",
    "variable_recon_error = np.mean(test_data_recon_error, axis=0)\n",
    "# Visualize reconstruction error per variable\n",
    "import matplotlib.pyplot as plt\n",
    "\n",
    "plt.figure(figsize=(10,5))\n",
    "plt.bar(range(1, input_dim+1), variable_recon_error)\n",
    "plt.xticks(range(1, input_dim+1), ramp_torque_df.columns[0:2], rotation=90)\n",
    "plt.ylabel('Reconstruction error')\n",
    "plt.xlabel('Rods')\n",
    "# plt.ylim(0,0.5)\n",
    "plt.title('Ramp Fault Test')\n",
    "plt.show()"
   ]
  },
  {
   "cell_type": "code",
   "execution_count": 59,
   "id": "68c93021",
   "metadata": {},
   "outputs": [
    {
     "name": "stdout",
     "output_type": "stream",
     "text": [
      "93751/93751 [==============================] - 62s 658us/step\n"
     ]
    },
    {
     "data": {
      "image/png": "[encoded data removed]",
      "text/plain": [
       "<Figure size 720x360 with 1 Axes>"
      ]
     },
     "metadata": {
      "needs_background": "light"
     },
     "output_type": "display_data"
    }
   ],
   "source": [
    "test_data_pred = model_4.predict(X_test_m2_step)\n",
    "test_data_recon_error = np.abs(X_test_m2_step - test_data_pred)\n",
    "variable_recon_error = np.mean(test_data_recon_error, axis=0)\n",
    "# Visualize reconstruction error per variable\n",
    "import matplotlib.pyplot as plt\n",
    "\n",
    "plt.figure(figsize=(10,5))\n",
    "plt.bar(range(1, input_dim+1), variable_recon_error)\n",
    "plt.xticks(range(1, input_dim+1), ramp_torque_df.columns[0:2], rotation=90)\n",
    "plt.ylabel('Reconstruction error')\n",
    "plt.xlabel('Rods')\n",
    "# plt.ylim(0,0.5)\n",
    "plt.title('Step Fault Test')\n",
    "plt.show()"
   ]
  },
  {
   "cell_type": "code",
   "execution_count": null,
   "id": "2ee7fa31",
   "metadata": {},
   "outputs": [],
   "source": []
  },
  {
   "cell_type": "code",
   "execution_count": null,
   "id": "12e7b51c",
   "metadata": {},
   "outputs": [],
   "source": []
  },
  {
   "cell_type": "markdown",
   "id": "b028005a",
   "metadata": {},
   "source": [
    "## Using Position Variable"
   ]
  },
  {
   "cell_type": "code",
   "execution_count": 60,
   "id": "7b893aad",
   "metadata": {},
   "outputs": [
    {
     "name": "stdout",
     "output_type": "stream",
     "text": [
      "(3000006, 10)\n"
     ]
    },
    {
     "data": {
      "text/html": [
       "<div>\n",
       "<style scoped>\n",
       "    .dataframe tbody tr th:only-of-type {\n",
       "        vertical-align: middle;\n",
       "    }\n",
       "\n",
       "    .dataframe tbody tr th {\n",
       "        vertical-align: top;\n",
       "    }\n",
       "\n",
       "    .dataframe thead th {\n",
       "        text-align: right;\n",
       "    }\n",
       "</style>\n",
       "<table border=\"1\" class=\"dataframe\">\n",
       "  <thead>\n",
       "    <tr style=\"text-align: right;\">\n",
       "      <th></th>\n",
       "      <th>rod_1</th>\n",
       "      <th>rod_2</th>\n",
       "      <th>rod_3</th>\n",
       "      <th>rod_4</th>\n",
       "      <th>rod_5</th>\n",
       "      <th>rod_6</th>\n",
       "      <th>rod_7</th>\n",
       "      <th>rod_8</th>\n",
       "      <th>rod_9</th>\n",
       "      <th>rod_10</th>\n",
       "    </tr>\n",
       "  </thead>\n",
       "  <tbody>\n",
       "    <tr>\n",
       "      <th>0</th>\n",
       "      <td>0.811</td>\n",
       "      <td>0.811</td>\n",
       "      <td>0.811</td>\n",
       "      <td>0.811</td>\n",
       "      <td>0.811</td>\n",
       "      <td>0.811</td>\n",
       "      <td>0.811</td>\n",
       "      <td>0.811</td>\n",
       "      <td>0.811</td>\n",
       "      <td>0.811</td>\n",
       "    </tr>\n",
       "    <tr>\n",
       "      <th>1</th>\n",
       "      <td>0.811</td>\n",
       "      <td>0.811</td>\n",
       "      <td>0.811</td>\n",
       "      <td>0.811</td>\n",
       "      <td>0.811</td>\n",
       "      <td>0.811</td>\n",
       "      <td>0.811</td>\n",
       "      <td>0.811</td>\n",
       "      <td>0.811</td>\n",
       "      <td>0.811</td>\n",
       "    </tr>\n",
       "    <tr>\n",
       "      <th>2</th>\n",
       "      <td>0.811</td>\n",
       "      <td>0.811</td>\n",
       "      <td>0.811</td>\n",
       "      <td>0.811</td>\n",
       "      <td>0.811</td>\n",
       "      <td>0.811</td>\n",
       "      <td>0.811</td>\n",
       "      <td>0.811</td>\n",
       "      <td>0.811</td>\n",
       "      <td>0.811</td>\n",
       "    </tr>\n",
       "    <tr>\n",
       "      <th>3</th>\n",
       "      <td>0.811</td>\n",
       "      <td>0.811</td>\n",
       "      <td>0.811</td>\n",
       "      <td>0.811</td>\n",
       "      <td>0.811</td>\n",
       "      <td>0.811</td>\n",
       "      <td>0.811</td>\n",
       "      <td>0.811</td>\n",
       "      <td>0.811</td>\n",
       "      <td>0.811</td>\n",
       "    </tr>\n",
       "    <tr>\n",
       "      <th>4</th>\n",
       "      <td>0.811</td>\n",
       "      <td>0.811</td>\n",
       "      <td>0.811</td>\n",
       "      <td>0.811</td>\n",
       "      <td>0.811</td>\n",
       "      <td>0.811</td>\n",
       "      <td>0.811</td>\n",
       "      <td>0.811</td>\n",
       "      <td>0.811</td>\n",
       "      <td>0.811</td>\n",
       "    </tr>\n",
       "  </tbody>\n",
       "</table>\n",
       "</div>"
      ],
      "text/plain": [
       "   rod_1  rod_2  rod_3  rod_4  rod_5  rod_6  rod_7  rod_8  rod_9  rod_10\n",
       "0  0.811  0.811  0.811  0.811  0.811  0.811  0.811  0.811  0.811   0.811\n",
       "1  0.811  0.811  0.811  0.811  0.811  0.811  0.811  0.811  0.811   0.811\n",
       "2  0.811  0.811  0.811  0.811  0.811  0.811  0.811  0.811  0.811   0.811\n",
       "3  0.811  0.811  0.811  0.811  0.811  0.811  0.811  0.811  0.811   0.811\n",
       "4  0.811  0.811  0.811  0.811  0.811  0.811  0.811  0.811  0.811   0.811"
      ]
     },
     "execution_count": 60,
     "metadata": {},
     "output_type": "execute_result"
    }
   ],
   "source": [
    "# Filter the list to keep only short-circuit torque files that start with 'T_S_'\n",
    "files_ = [f for f in files if f.startswith('X_a')]\n",
    "\n",
    "col_list = ['rod_1','rod_2','rod_3','rod_4','rod_5','rod_6','rod_7','rod_8','rod_9','rod_10']\n",
    "\n",
    "# Load the files into a DataFrame\n",
    "healthy_position_df = pd.concat([pd.read_csv(f,header=None, names=col_list) for f in files_], ignore_index=True)\n",
    "print(healthy_position_df.shape)\n",
    "healthy_position_df.head()"
   ]
  },
  {
   "cell_type": "code",
   "execution_count": 61,
   "id": "d34cdf5e",
   "metadata": {},
   "outputs": [
    {
     "name": "stdout",
     "output_type": "stream",
     "text": [
      "(3000006, 10)\n"
     ]
    },
    {
     "data": {
      "text/html": [
       "<div>\n",
       "<style scoped>\n",
       "    .dataframe tbody tr th:only-of-type {\n",
       "        vertical-align: middle;\n",
       "    }\n",
       "\n",
       "    .dataframe tbody tr th {\n",
       "        vertical-align: top;\n",
       "    }\n",
       "\n",
       "    .dataframe thead th {\n",
       "        text-align: right;\n",
       "    }\n",
       "</style>\n",
       "<table border=\"1\" class=\"dataframe\">\n",
       "  <thead>\n",
       "    <tr style=\"text-align: right;\">\n",
       "      <th></th>\n",
       "      <th>rod_1</th>\n",
       "      <th>rod_2</th>\n",
       "      <th>rod_3</th>\n",
       "      <th>rod_4</th>\n",
       "      <th>rod_5</th>\n",
       "      <th>rod_6</th>\n",
       "      <th>rod_7</th>\n",
       "      <th>rod_8</th>\n",
       "      <th>rod_9</th>\n",
       "      <th>rod_10</th>\n",
       "    </tr>\n",
       "  </thead>\n",
       "  <tbody>\n",
       "    <tr>\n",
       "      <th>0</th>\n",
       "      <td>1.703</td>\n",
       "      <td>1.703</td>\n",
       "      <td>1.703</td>\n",
       "      <td>1.703</td>\n",
       "      <td>1.703</td>\n",
       "      <td>1.703</td>\n",
       "      <td>1.703</td>\n",
       "      <td>1.703</td>\n",
       "      <td>1.703</td>\n",
       "      <td>1.703</td>\n",
       "    </tr>\n",
       "    <tr>\n",
       "      <th>1</th>\n",
       "      <td>1.703</td>\n",
       "      <td>1.703</td>\n",
       "      <td>1.703</td>\n",
       "      <td>1.703</td>\n",
       "      <td>1.703</td>\n",
       "      <td>1.703</td>\n",
       "      <td>1.703</td>\n",
       "      <td>1.703</td>\n",
       "      <td>1.703</td>\n",
       "      <td>1.703</td>\n",
       "    </tr>\n",
       "    <tr>\n",
       "      <th>2</th>\n",
       "      <td>1.703</td>\n",
       "      <td>1.703</td>\n",
       "      <td>1.703</td>\n",
       "      <td>1.703</td>\n",
       "      <td>1.703</td>\n",
       "      <td>1.703</td>\n",
       "      <td>1.703</td>\n",
       "      <td>1.703</td>\n",
       "      <td>1.703</td>\n",
       "      <td>1.703</td>\n",
       "    </tr>\n",
       "    <tr>\n",
       "      <th>3</th>\n",
       "      <td>1.703</td>\n",
       "      <td>1.703</td>\n",
       "      <td>1.703</td>\n",
       "      <td>1.703</td>\n",
       "      <td>1.703</td>\n",
       "      <td>1.703</td>\n",
       "      <td>1.703</td>\n",
       "      <td>1.703</td>\n",
       "      <td>1.703</td>\n",
       "      <td>1.703</td>\n",
       "    </tr>\n",
       "    <tr>\n",
       "      <th>4</th>\n",
       "      <td>1.703</td>\n",
       "      <td>1.703</td>\n",
       "      <td>1.703</td>\n",
       "      <td>1.703</td>\n",
       "      <td>1.703</td>\n",
       "      <td>1.703</td>\n",
       "      <td>1.703</td>\n",
       "      <td>1.703</td>\n",
       "      <td>1.703</td>\n",
       "      <td>1.703</td>\n",
       "    </tr>\n",
       "  </tbody>\n",
       "</table>\n",
       "</div>"
      ],
      "text/plain": [
       "   rod_1  rod_2  rod_3  rod_4  rod_5  rod_6  rod_7  rod_8  rod_9  rod_10\n",
       "0  1.703  1.703  1.703  1.703  1.703  1.703  1.703  1.703  1.703   1.703\n",
       "1  1.703  1.703  1.703  1.703  1.703  1.703  1.703  1.703  1.703   1.703\n",
       "2  1.703  1.703  1.703  1.703  1.703  1.703  1.703  1.703  1.703   1.703\n",
       "3  1.703  1.703  1.703  1.703  1.703  1.703  1.703  1.703  1.703   1.703\n",
       "4  1.703  1.703  1.703  1.703  1.703  1.703  1.703  1.703  1.703   1.703"
      ]
     },
     "execution_count": 61,
     "metadata": {},
     "output_type": "execute_result"
    }
   ],
   "source": [
    "# Filter the list to keep only short-circuit torque files that start with 'X_S_'\n",
    "files_ = [f for f in files if f.startswith('X_S')]\n",
    "\n",
    "col_list = ['rod_1','rod_2','rod_3','rod_4','rod_5','rod_6','rod_7','rod_8','rod_9','rod_10']\n",
    "\n",
    "# Load the files into a DataFrame\n",
    "short_position_df = pd.concat([pd.read_csv(f,header=None, names=col_list) for f in files_], ignore_index=True)\n",
    "print(short_position_df.shape)\n",
    "short_position_df.head()"
   ]
  },
  {
   "cell_type": "code",
   "execution_count": 62,
   "id": "4527a319",
   "metadata": {},
   "outputs": [
    {
     "name": "stdout",
     "output_type": "stream",
     "text": [
      "(3000006, 10)\n"
     ]
    },
    {
     "data": {
      "text/html": [
       "<div>\n",
       "<style scoped>\n",
       "    .dataframe tbody tr th:only-of-type {\n",
       "        vertical-align: middle;\n",
       "    }\n",
       "\n",
       "    .dataframe tbody tr th {\n",
       "        vertical-align: top;\n",
       "    }\n",
       "\n",
       "    .dataframe thead th {\n",
       "        text-align: right;\n",
       "    }\n",
       "</style>\n",
       "<table border=\"1\" class=\"dataframe\">\n",
       "  <thead>\n",
       "    <tr style=\"text-align: right;\">\n",
       "      <th></th>\n",
       "      <th>rod_1</th>\n",
       "      <th>rod_2</th>\n",
       "      <th>rod_3</th>\n",
       "      <th>rod_4</th>\n",
       "      <th>rod_5</th>\n",
       "      <th>rod_6</th>\n",
       "      <th>rod_7</th>\n",
       "      <th>rod_8</th>\n",
       "      <th>rod_9</th>\n",
       "      <th>rod_10</th>\n",
       "    </tr>\n",
       "  </thead>\n",
       "  <tbody>\n",
       "    <tr>\n",
       "      <th>0</th>\n",
       "      <td>1.703</td>\n",
       "      <td>1.703</td>\n",
       "      <td>1.703</td>\n",
       "      <td>1.703</td>\n",
       "      <td>1.703</td>\n",
       "      <td>1.703</td>\n",
       "      <td>1.703</td>\n",
       "      <td>1.703</td>\n",
       "      <td>1.703</td>\n",
       "      <td>1.703</td>\n",
       "    </tr>\n",
       "    <tr>\n",
       "      <th>1</th>\n",
       "      <td>1.703</td>\n",
       "      <td>1.703</td>\n",
       "      <td>1.703</td>\n",
       "      <td>1.703</td>\n",
       "      <td>1.703</td>\n",
       "      <td>1.703</td>\n",
       "      <td>1.703</td>\n",
       "      <td>1.703</td>\n",
       "      <td>1.703</td>\n",
       "      <td>1.703</td>\n",
       "    </tr>\n",
       "    <tr>\n",
       "      <th>2</th>\n",
       "      <td>1.703</td>\n",
       "      <td>1.703</td>\n",
       "      <td>1.703</td>\n",
       "      <td>1.703</td>\n",
       "      <td>1.703</td>\n",
       "      <td>1.703</td>\n",
       "      <td>1.703</td>\n",
       "      <td>1.703</td>\n",
       "      <td>1.703</td>\n",
       "      <td>1.703</td>\n",
       "    </tr>\n",
       "    <tr>\n",
       "      <th>3</th>\n",
       "      <td>1.703</td>\n",
       "      <td>1.703</td>\n",
       "      <td>1.703</td>\n",
       "      <td>1.703</td>\n",
       "      <td>1.703</td>\n",
       "      <td>1.703</td>\n",
       "      <td>1.703</td>\n",
       "      <td>1.703</td>\n",
       "      <td>1.703</td>\n",
       "      <td>1.703</td>\n",
       "    </tr>\n",
       "    <tr>\n",
       "      <th>4</th>\n",
       "      <td>1.703</td>\n",
       "      <td>1.703</td>\n",
       "      <td>1.703</td>\n",
       "      <td>1.703</td>\n",
       "      <td>1.703</td>\n",
       "      <td>1.703</td>\n",
       "      <td>1.703</td>\n",
       "      <td>1.703</td>\n",
       "      <td>1.703</td>\n",
       "      <td>1.703</td>\n",
       "    </tr>\n",
       "  </tbody>\n",
       "</table>\n",
       "</div>"
      ],
      "text/plain": [
       "   rod_1  rod_2  rod_3  rod_4  rod_5  rod_6  rod_7  rod_8  rod_9  rod_10\n",
       "0  1.703  1.703  1.703  1.703  1.703  1.703  1.703  1.703  1.703   1.703\n",
       "1  1.703  1.703  1.703  1.703  1.703  1.703  1.703  1.703  1.703   1.703\n",
       "2  1.703  1.703  1.703  1.703  1.703  1.703  1.703  1.703  1.703   1.703\n",
       "3  1.703  1.703  1.703  1.703  1.703  1.703  1.703  1.703  1.703   1.703\n",
       "4  1.703  1.703  1.703  1.703  1.703  1.703  1.703  1.703  1.703   1.703"
      ]
     },
     "execution_count": 62,
     "metadata": {},
     "output_type": "execute_result"
    }
   ],
   "source": [
    "# Filter the list to keep only short-circuit torque files that start with 'X_LS'\n",
    "files_ = [f for f in files if f.startswith('X_LS')]\n",
    "\n",
    "col_list = ['rod_1','rod_2','rod_3','rod_4','rod_5','rod_6','rod_7','rod_8','rod_9','rod_10']\n",
    "\n",
    "# Load the files into a DataFrame\n",
    "step_position_df = pd.concat([pd.read_csv(f,header=None, names=col_list) for f in files_], ignore_index=True)\n",
    "print(step_position_df.shape)\n",
    "step_position_df.head()"
   ]
  },
  {
   "cell_type": "code",
   "execution_count": 63,
   "id": "dc2196d7",
   "metadata": {},
   "outputs": [
    {
     "name": "stdout",
     "output_type": "stream",
     "text": [
      "(3000006, 10)\n"
     ]
    },
    {
     "data": {
      "text/html": [
       "<div>\n",
       "<style scoped>\n",
       "    .dataframe tbody tr th:only-of-type {\n",
       "        vertical-align: middle;\n",
       "    }\n",
       "\n",
       "    .dataframe tbody tr th {\n",
       "        vertical-align: top;\n",
       "    }\n",
       "\n",
       "    .dataframe thead th {\n",
       "        text-align: right;\n",
       "    }\n",
       "</style>\n",
       "<table border=\"1\" class=\"dataframe\">\n",
       "  <thead>\n",
       "    <tr style=\"text-align: right;\">\n",
       "      <th></th>\n",
       "      <th>rod_1</th>\n",
       "      <th>rod_2</th>\n",
       "      <th>rod_3</th>\n",
       "      <th>rod_4</th>\n",
       "      <th>rod_5</th>\n",
       "      <th>rod_6</th>\n",
       "      <th>rod_7</th>\n",
       "      <th>rod_8</th>\n",
       "      <th>rod_9</th>\n",
       "      <th>rod_10</th>\n",
       "    </tr>\n",
       "  </thead>\n",
       "  <tbody>\n",
       "    <tr>\n",
       "      <th>0</th>\n",
       "      <td>0.811</td>\n",
       "      <td>0.811</td>\n",
       "      <td>0.811</td>\n",
       "      <td>0.811</td>\n",
       "      <td>0.811</td>\n",
       "      <td>0.811</td>\n",
       "      <td>0.811</td>\n",
       "      <td>0.811</td>\n",
       "      <td>0.811</td>\n",
       "      <td>0.811</td>\n",
       "    </tr>\n",
       "    <tr>\n",
       "      <th>1</th>\n",
       "      <td>0.811</td>\n",
       "      <td>0.811</td>\n",
       "      <td>0.811</td>\n",
       "      <td>0.811</td>\n",
       "      <td>0.811</td>\n",
       "      <td>0.811</td>\n",
       "      <td>0.811</td>\n",
       "      <td>0.811</td>\n",
       "      <td>0.811</td>\n",
       "      <td>0.811</td>\n",
       "    </tr>\n",
       "    <tr>\n",
       "      <th>2</th>\n",
       "      <td>0.811</td>\n",
       "      <td>0.811</td>\n",
       "      <td>0.811</td>\n",
       "      <td>0.811</td>\n",
       "      <td>0.811</td>\n",
       "      <td>0.811</td>\n",
       "      <td>0.811</td>\n",
       "      <td>0.811</td>\n",
       "      <td>0.811</td>\n",
       "      <td>0.811</td>\n",
       "    </tr>\n",
       "    <tr>\n",
       "      <th>3</th>\n",
       "      <td>0.811</td>\n",
       "      <td>0.811</td>\n",
       "      <td>0.811</td>\n",
       "      <td>0.811</td>\n",
       "      <td>0.811</td>\n",
       "      <td>0.811</td>\n",
       "      <td>0.811</td>\n",
       "      <td>0.811</td>\n",
       "      <td>0.811</td>\n",
       "      <td>0.811</td>\n",
       "    </tr>\n",
       "    <tr>\n",
       "      <th>4</th>\n",
       "      <td>0.811</td>\n",
       "      <td>0.811</td>\n",
       "      <td>0.811</td>\n",
       "      <td>0.811</td>\n",
       "      <td>0.811</td>\n",
       "      <td>0.811</td>\n",
       "      <td>0.811</td>\n",
       "      <td>0.811</td>\n",
       "      <td>0.811</td>\n",
       "      <td>0.811</td>\n",
       "    </tr>\n",
       "  </tbody>\n",
       "</table>\n",
       "</div>"
      ],
      "text/plain": [
       "   rod_1  rod_2  rod_3  rod_4  rod_5  rod_6  rod_7  rod_8  rod_9  rod_10\n",
       "0  0.811  0.811  0.811  0.811  0.811  0.811  0.811  0.811  0.811   0.811\n",
       "1  0.811  0.811  0.811  0.811  0.811  0.811  0.811  0.811  0.811   0.811\n",
       "2  0.811  0.811  0.811  0.811  0.811  0.811  0.811  0.811  0.811   0.811\n",
       "3  0.811  0.811  0.811  0.811  0.811  0.811  0.811  0.811  0.811   0.811\n",
       "4  0.811  0.811  0.811  0.811  0.811  0.811  0.811  0.811  0.811   0.811"
      ]
     },
     "execution_count": 63,
     "metadata": {},
     "output_type": "execute_result"
    }
   ],
   "source": [
    "# Filter the list to keep only Ramp fault torque files that start with 'T_L_'\n",
    "files_ = [f for f in files if f.startswith('X_L')]\n",
    "files_ = [f for f in files_ if not f.startswith('X_LS')]\n",
    "col_list = ['rod_1','rod_2','rod_3','rod_4','rod_5','rod_6','rod_7','rod_8','rod_9','rod_10']\n",
    "\n",
    "# Load the files into a DataFrame\n",
    "ramp_position_df = pd.concat([pd.read_csv(f,header=None, names=col_list) for f in files_], ignore_index=True)\n",
    "print(ramp_position_df.shape)\n",
    "ramp_position_df.head()"
   ]
  },
  {
   "cell_type": "code",
   "execution_count": 64,
   "id": "5361b099",
   "metadata": {},
   "outputs": [],
   "source": [
    "# Load and preprocess data\n",
    "\n",
    "x_train_position = scaler.fit_transform(np.array(healthy_position_df)[0:int(0.7*len(healthy_position_df)),:])\n",
    "X_test_pos_a = scaler.transform(np.array(healthy_position_df)[int(0.7*len(healthy_position_df)):,:])\n",
    "x_test_pos_shor = scaler.transform(np.array(short_position_df))\n",
    "x_test_pos_step = scaler.transform(np.array(step_position_df))\n",
    "x_test_pos_ramp = scaler.transform(np.array(ramp_position_df))"
   ]
  },
  {
   "cell_type": "code",
   "execution_count": 65,
   "id": "767b689b",
   "metadata": {},
   "outputs": [],
   "source": [
    "np.random.seed(42)\n",
    "# Define the model\n",
    "input_dim = x_train_position.shape[1]\n",
    "latent_dim = 2\n",
    "autoencoder = keras.Sequential([\n",
    "    layers.Dense(32, activation='relu', input_shape=(input_dim,)),\n",
    "    layers.Dense(16, activation='relu'),\n",
    "    layers.Dense(latent_dim, activation='relu'),\n",
    "    layers.Dense(16, activation='relu'),\n",
    "    layers.Dense(32, activation='relu'),\n",
    "    layers.Dense(input_dim, activation='linear')\n",
    "])\n",
    "\n",
    "# Compile the model\n",
    "autoencoder.compile(optimizer='adam', loss='mse')"
   ]
  },
  {
   "cell_type": "code",
   "execution_count": 66,
   "id": "2c87a451",
   "metadata": {
    "scrolled": true
   },
   "outputs": [
    {
     "name": "stdout",
     "output_type": "stream",
     "text": [
      "Epoch 1/6\n",
      "26251/26251 [==============================] - 31s 1ms/step - loss: 0.0232 - val_loss: 0.2106\n",
      "Epoch 2/6\n",
      "26251/26251 [==============================] - 30s 1ms/step - loss: 0.0198 - val_loss: 0.1984\n",
      "Epoch 3/6\n",
      "26251/26251 [==============================] - 31s 1ms/step - loss: 0.0198 - val_loss: 0.1717\n",
      "Epoch 4/6\n",
      "26251/26251 [==============================] - 32s 1ms/step - loss: 0.0198 - val_loss: 0.1525\n",
      "Epoch 5/6\n",
      "26251/26251 [==============================] - 31s 1ms/step - loss: 0.0198 - val_loss: 0.1485\n",
      "Epoch 6/6\n",
      "26251/26251 [==============================] - 31s 1ms/step - loss: 0.0198 - val_loss: 0.1232\n"
     ]
    },
    {
     "data": {
      "text/plain": [
       "<keras.callbacks.History at 0x7f12ac490880>"
      ]
     },
     "execution_count": 66,
     "metadata": {},
     "output_type": "execute_result"
    }
   ],
   "source": [
    "# Train the model\n",
    "autoencoder.fit(x_train_position, x_train_position, epochs=6, batch_size=64, validation_split = 0.2)"
   ]
  },
  {
   "cell_type": "code",
   "execution_count": 75,
   "id": "bf130d88",
   "metadata": {},
   "outputs": [
    {
     "name": "stdout",
     "output_type": "stream",
     "text": [
      "28126/28126 [==============================] - 17s 615us/step\n",
      "Number of anomalies: 14048\n"
     ]
    },
    {
     "data": {
      "image/png": "[encoded data removed]",
      "text/plain": [
       "<Figure size 432x288 with 1 Axes>"
      ]
     },
     "metadata": {
      "needs_background": "light"
     },
     "output_type": "display_data"
    }
   ],
   "source": [
    "# Evaluate the model\n",
    "X_pred = autoencoder.predict(X_test_pos_a)\n",
    "mse = np.mean(np.power(X_test_pos_a - X_pred, 2), axis=1)\n",
    "threshold = np.percentile(mse, 95)\n",
    "anomalies = np.where(mse > threshold)[0]\n",
    "print('Number of anomalies:', len(anomalies))\n",
    "\n",
    "# Predict Fault\n",
    "predictions = np.zeros_like(mse)\n",
    "predictions[mse > threshold] = 1\n",
    "\n",
    "# Plot Hypothesis Curve\n",
    "import matplotlib.pyplot as plt\n",
    "plt.plot(predictions, 'r*')\n",
    "plt.xlabel('Observation')\n",
    "plt.ylabel('Prediction')\n",
    "plt.title('Fault Hypothesis Plot - Healthy Test')\n",
    "plt.show()"
   ]
  },
  {
   "cell_type": "code",
   "execution_count": 76,
   "id": "8386ebcd",
   "metadata": {},
   "outputs": [
    {
     "name": "stdout",
     "output_type": "stream",
     "text": [
      "28126/28126 [==============================] - 17s 599us/step\n"
     ]
    },
    {
     "data": {
      "image/png": "[encoded data removed]",
      "text/plain": [
       "<Figure size 720x360 with 1 Axes>"
      ]
     },
     "metadata": {
      "needs_background": "light"
     },
     "output_type": "display_data"
    }
   ],
   "source": [
    "# Calculate reconstruction error for each variable on test data\n",
    "test_data_pred = autoencoder.predict(X_test_pos_a)\n",
    "test_data_recon_error = np.abs(X_test_pos_a - test_data_pred)\n",
    "variable_recon_error = np.mean(test_data_recon_error, axis=0)\n",
    "\n",
    "\n",
    "# Visualize reconstruction error per variable\n",
    "import matplotlib.pyplot as plt\n",
    "\n",
    "plt.figure(figsize=(10,5))\n",
    "plt.bar(range(1, input_dim+1), variable_recon_error)\n",
    "plt.xticks(range(1, input_dim+1), ramp_torque_df.columns, rotation=90)\n",
    "plt.ylabel('Reconstruction Error')\n",
    "plt.xlabel('Rods')\n",
    "plt.ylim(0,0.5)\n",
    "plt.title('Healthy Test with Position')\n",
    "plt.show()"
   ]
  },
  {
   "cell_type": "code",
   "execution_count": 77,
   "id": "b1144724",
   "metadata": {},
   "outputs": [
    {
     "name": "stdout",
     "output_type": "stream",
     "text": [
      "93751/93751 [==============================] - 56s 594us/step\n",
      "Number of anomalies: 14452\n"
     ]
    },
    {
     "data": {
      "image/png": "[encoded data removed]",
      "text/plain": [
       "<Figure size 432x288 with 1 Axes>"
      ]
     },
     "metadata": {
      "needs_background": "light"
     },
     "output_type": "display_data"
    }
   ],
   "source": [
    "# Evaluate the model\n",
    "X_pred = autoencoder.predict(x_test_pos_shor)\n",
    "mse = np.mean(np.power(x_test_pos_shor - X_pred, 2), axis=1)\n",
    "# threshold = np.percentile(mse, 95)\n",
    "anomalies = np.where(mse > threshold)[0]\n",
    "print('Number of anomalies:', len(anomalies))\n",
    "\n",
    "# Predict Fault\n",
    "predictions = np.zeros_like(mse)\n",
    "predictions[mse > threshold] = 1\n",
    "\n",
    "# Plot Hypothesis Curve\n",
    "import matplotlib.pyplot as plt\n",
    "plt.plot(predictions, 'r*')\n",
    "plt.xlabel('Observation')\n",
    "plt.ylabel('Prediction')\n",
    "plt.title('Fault Hypothesis Plot - Short Test')\n",
    "plt.show()"
   ]
  },
  {
   "cell_type": "code",
   "execution_count": 78,
   "id": "b7a364b3",
   "metadata": {},
   "outputs": [
    {
     "name": "stdout",
     "output_type": "stream",
     "text": [
      "93751/93751 [==============================] - 59s 627us/step\n"
     ]
    },
    {
     "data": {
      "image/png": "[encoded data removed]",
      "text/plain": [
       "<Figure size 720x360 with 1 Axes>"
      ]
     },
     "metadata": {
      "needs_background": "light"
     },
     "output_type": "display_data"
    }
   ],
   "source": [
    "# Calculate reconstruction error for each variable on test data\n",
    "test_data_pred = autoencoder.predict(x_test_pos_shor)\n",
    "test_data_recon_error = np.abs(x_test_pos_shor - test_data_pred)\n",
    "variable_recon_error = np.mean(test_data_recon_error, axis=0)\n",
    "\n",
    "# Visualize reconstruction error per variable\n",
    "import matplotlib.pyplot as plt\n",
    "\n",
    "plt.figure(figsize=(10,5))\n",
    "plt.bar(range(1, input_dim+1), variable_recon_error)\n",
    "plt.xticks(range(1, input_dim+1), ramp_torque_df.columns, rotation=90)\n",
    "plt.ylabel('Reconstruction Error')\n",
    "plt.xlabel('Rods')\n",
    "# plt.ylim(0,0.8)\n",
    "plt.title('Short-Circuit Test with Position')\n",
    "plt.show()"
   ]
  },
  {
   "cell_type": "code",
   "execution_count": 79,
   "id": "61bdda6c",
   "metadata": {},
   "outputs": [
    {
     "name": "stdout",
     "output_type": "stream",
     "text": [
      "93751/93751 [==============================] - 59s 628us/step\n",
      "Number of anomalies: 14064\n"
     ]
    },
    {
     "data": {
      "image/png": "[encoded data removed]",
      "text/plain": [
       "<Figure size 432x288 with 1 Axes>"
      ]
     },
     "metadata": {
      "needs_background": "light"
     },
     "output_type": "display_data"
    }
   ],
   "source": [
    "# Evaluate the model\n",
    "X_pred = autoencoder.predict(x_test_pos_step)\n",
    "mse = np.mean(np.power(x_test_pos_step - X_pred, 2), axis=1)\n",
    "# threshold = np.percentile(mse, 95)\n",
    "anomalies = np.where(mse > threshold)[0]\n",
    "print('Number of anomalies:', len(anomalies))\n",
    "\n",
    "# Predict Fault\n",
    "predictions = np.zeros_like(mse)\n",
    "predictions[mse > threshold] = 1\n",
    "\n",
    "# Plot Hypothesis Curve\n",
    "import matplotlib.pyplot as plt\n",
    "plt.plot(predictions, 'r*')\n",
    "plt.xlabel('Observation')\n",
    "plt.ylabel('Prediction')\n",
    "plt.title('Fault Hypothesis Plot - Step Test')\n",
    "plt.show()"
   ]
  },
  {
   "cell_type": "code",
   "execution_count": 80,
   "id": "30d9353b",
   "metadata": {},
   "outputs": [
    {
     "name": "stdout",
     "output_type": "stream",
     "text": [
      "93751/93751 [==============================] - 56s 597us/step\n"
     ]
    },
    {
     "data": {
      "image/png": "[encoded data removed]",
      "text/plain": [
       "<Figure size 720x360 with 1 Axes>"
      ]
     },
     "metadata": {
      "needs_background": "light"
     },
     "output_type": "display_data"
    }
   ],
   "source": [
    "# Calculate reconstruction error for each variable on test data\n",
    "test_data_pred = autoencoder.predict(x_test_pos_step)\n",
    "test_data_recon_error = np.abs(x_test_pos_step - test_data_pred)\n",
    "variable_recon_error = np.mean(test_data_recon_error, axis=0)\n",
    "\n",
    "# Visualize reconstruction error per variable\n",
    "import matplotlib.pyplot as plt\n",
    "\n",
    "plt.figure(figsize=(10,5))\n",
    "plt.bar(range(1, input_dim+1), variable_recon_error)\n",
    "plt.xticks(range(1, input_dim+1), ramp_torque_df.columns, rotation=90)\n",
    "plt.ylabel('Reconstruction Error')\n",
    "plt.xlabel('Rods')\n",
    "# plt.ylim(0,0.8)\n",
    "plt.title('Step Test with Position')\n",
    "plt.show()"
   ]
  },
  {
   "cell_type": "code",
   "execution_count": 81,
   "id": "ac1b82c6",
   "metadata": {},
   "outputs": [
    {
     "name": "stdout",
     "output_type": "stream",
     "text": [
      "93751/93751 [==============================] - 55s 591us/step\n",
      "Number of anomalies: 14088\n"
     ]
    },
    {
     "data": {
      "image/png": "[encoded data removed]",
      "text/plain": [
       "<Figure size 432x288 with 1 Axes>"
      ]
     },
     "metadata": {
      "needs_background": "light"
     },
     "output_type": "display_data"
    }
   ],
   "source": [
    "# Evaluate the model\n",
    "X_pred = autoencoder.predict(x_test_pos_ramp)\n",
    "mse = np.mean(np.power(x_test_pos_ramp - X_pred, 2), axis=1)\n",
    "# threshold = np.percentile(mse, 95)\n",
    "anomalies = np.where(mse > threshold)[0]\n",
    "print('Number of anomalies:', len(anomalies))\n",
    "\n",
    "# Predict Fault\n",
    "predictions = np.zeros_like(mse)\n",
    "predictions[mse > threshold] = 1\n",
    "\n",
    "# Plot Hypothesis Curve\n",
    "import matplotlib.pyplot as plt\n",
    "plt.plot(predictions, 'r*')\n",
    "plt.xlabel('Observation')\n",
    "plt.ylabel('Prediction')\n",
    "plt.title('Fault Hypothesis Plot - Ramp Test')\n",
    "plt.show()"
   ]
  },
  {
   "cell_type": "code",
   "execution_count": 82,
   "id": "58f33368",
   "metadata": {},
   "outputs": [
    {
     "name": "stdout",
     "output_type": "stream",
     "text": [
      "93751/93751 [==============================] - 56s 595us/step\n"
     ]
    },
    {
     "data": {
      "image/png": "[encoded data removed]",
      "text/plain": [
       "<Figure size 720x360 with 1 Axes>"
      ]
     },
     "metadata": {
      "needs_background": "light"
     },
     "output_type": "display_data"
    }
   ],
   "source": [
    "# Calculate reconstruction error for each variable on test data\n",
    "test_data_pred = autoencoder.predict(x_test_pos_ramp)\n",
    "test_data_recon_error = np.abs(x_test_pos_ramp - test_data_pred)\n",
    "variable_recon_error = np.mean(test_data_recon_error, axis=0)\n",
    "\n",
    "# Visualize reconstruction error per variable\n",
    "import matplotlib.pyplot as plt\n",
    "\n",
    "plt.figure(figsize=(10,5))\n",
    "plt.bar(range(1, input_dim+1), variable_recon_error)\n",
    "plt.xticks(range(1, input_dim+1), ramp_torque_df.columns, rotation=90)\n",
    "plt.ylabel('Reconstruction Error')\n",
    "plt.xlabel('Rods')\n",
    "# plt.ylim(0,0.8)\n",
    "plt.title('Ramp Test with Position')\n",
    "plt.show()"
   ]
  },
  {
   "cell_type": "code",
   "execution_count": null,
   "id": "003548e8",
   "metadata": {},
   "outputs": [],
   "source": []
  }
 ],
 "metadata": {
  "kernelspec": {
   "display_name": "Python 3",
   "language": "python",
   "name": "python3"
  },
  "language_info": {
   "codemirror_mode": {
    "name": "ipython",
    "version": 3
   },
   "file_extension": ".py",
   "mimetype": "text/x-python",
   "name": "python",
   "nbconvert_exporter": "python",
   "pygments_lexer": "ipython3",
   "version": "3.8.8"
  }
 },
 "nbformat": 4,
 "nbformat_minor": 5
}
